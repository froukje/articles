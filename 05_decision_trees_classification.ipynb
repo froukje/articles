{
 "cells": [
  {
   "cell_type": "markdown",
   "id": "0f1c9f79",
   "metadata": {},
   "source": [
    "# Decision Trees for classification - Full Example"
   ]
  },
  {
   "cell_type": "markdown",
   "id": "72d23e11",
   "metadata": {},
   "source": [
    "> “A decision tree is a decision support tool that uses a tree-like model of decisions and their possible consequences, including chance event outcomes, resource costs, and utility. It is one way to display an algorithm that only contains conditional control statements.” (Wikipedia)\n"
   ]
  },
  {
   "cell_type": "markdown",
   "id": "54ed2042",
   "metadata": {},
   "source": [
    "Traditionally decision trees are drawn manually, but they can be learned using a Machine Learning. They can be used for both regression and classification problems. In this article we will focus on classification problems. Let's consider the following example data:"
   ]
  },
  {
   "cell_type": "code",
   "execution_count": 1,
   "id": "cb003d0f",
   "metadata": {},
   "outputs": [],
   "source": [
    "import pandas as pd\n",
    "from sklearn.tree import DecisionTreeClassifier\n",
    "from sklearn.tree import plot_tree"
   ]
  },
  {
   "cell_type": "code",
   "execution_count": 2,
   "id": "fae8b4a7",
   "metadata": {},
   "outputs": [],
   "source": [
    "data_dict = {'age' :[24, 30, 36, 36, 42, 44, 46, 47, 47, 51], \n",
    "             'likes_dogs':[0, 1, 0, 0, 0, 1, 1, 1, 0, 1], \n",
    "             'likes_gravity': [0, 1, 1, 0, 0, 1, 0, 1, 1, 1], \n",
    "             'going_to_be_an_astronaut': [0, 1, 1, 0, 0, 1, 0, 1, 0, 1]}"
   ]
  },
  {
   "cell_type": "code",
   "execution_count": 3,
   "id": "aa14b6f1",
   "metadata": {},
   "outputs": [
    {
     "data": {
      "text/html": [
       "<div>\n",
       "<style scoped>\n",
       "    .dataframe tbody tr th:only-of-type {\n",
       "        vertical-align: middle;\n",
       "    }\n",
       "\n",
       "    .dataframe tbody tr th {\n",
       "        vertical-align: top;\n",
       "    }\n",
       "\n",
       "    .dataframe thead th {\n",
       "        text-align: right;\n",
       "    }\n",
       "</style>\n",
       "<table border=\"1\" class=\"dataframe\">\n",
       "  <thead>\n",
       "    <tr style=\"text-align: right;\">\n",
       "      <th></th>\n",
       "      <th>age</th>\n",
       "      <th>likes_dogs</th>\n",
       "      <th>likes_gravity</th>\n",
       "      <th>going_to_be_an_astronaut</th>\n",
       "    </tr>\n",
       "  </thead>\n",
       "  <tbody>\n",
       "    <tr>\n",
       "      <th>0</th>\n",
       "      <td>24</td>\n",
       "      <td>0</td>\n",
       "      <td>0</td>\n",
       "      <td>0</td>\n",
       "    </tr>\n",
       "    <tr>\n",
       "      <th>1</th>\n",
       "      <td>30</td>\n",
       "      <td>1</td>\n",
       "      <td>1</td>\n",
       "      <td>1</td>\n",
       "    </tr>\n",
       "    <tr>\n",
       "      <th>2</th>\n",
       "      <td>36</td>\n",
       "      <td>0</td>\n",
       "      <td>1</td>\n",
       "      <td>1</td>\n",
       "    </tr>\n",
       "    <tr>\n",
       "      <th>3</th>\n",
       "      <td>36</td>\n",
       "      <td>0</td>\n",
       "      <td>0</td>\n",
       "      <td>0</td>\n",
       "    </tr>\n",
       "    <tr>\n",
       "      <th>4</th>\n",
       "      <td>42</td>\n",
       "      <td>0</td>\n",
       "      <td>0</td>\n",
       "      <td>0</td>\n",
       "    </tr>\n",
       "    <tr>\n",
       "      <th>5</th>\n",
       "      <td>44</td>\n",
       "      <td>1</td>\n",
       "      <td>1</td>\n",
       "      <td>1</td>\n",
       "    </tr>\n",
       "    <tr>\n",
       "      <th>6</th>\n",
       "      <td>46</td>\n",
       "      <td>1</td>\n",
       "      <td>0</td>\n",
       "      <td>0</td>\n",
       "    </tr>\n",
       "    <tr>\n",
       "      <th>7</th>\n",
       "      <td>47</td>\n",
       "      <td>1</td>\n",
       "      <td>1</td>\n",
       "      <td>1</td>\n",
       "    </tr>\n",
       "    <tr>\n",
       "      <th>8</th>\n",
       "      <td>47</td>\n",
       "      <td>0</td>\n",
       "      <td>1</td>\n",
       "      <td>0</td>\n",
       "    </tr>\n",
       "    <tr>\n",
       "      <th>9</th>\n",
       "      <td>51</td>\n",
       "      <td>1</td>\n",
       "      <td>1</td>\n",
       "      <td>1</td>\n",
       "    </tr>\n",
       "  </tbody>\n",
       "</table>\n",
       "</div>"
      ],
      "text/plain": [
       "   age  likes_dogs  likes_gravity  going_to_be_an_astronaut\n",
       "0   24           0              0                         0\n",
       "1   30           1              1                         1\n",
       "2   36           0              1                         1\n",
       "3   36           0              0                         0\n",
       "4   42           0              0                         0\n",
       "5   44           1              1                         1\n",
       "6   46           1              0                         0\n",
       "7   47           1              1                         1\n",
       "8   47           0              1                         0\n",
       "9   51           1              1                         1"
      ]
     },
     "execution_count": 3,
     "metadata": {},
     "output_type": "execute_result"
    }
   ],
   "source": [
    "df = pd.DataFrame.from_dict(data_dict)\n",
    "df"
   ]
  },
  {
   "cell_type": "markdown",
   "id": "01b66cd6",
   "metadata": {},
   "source": [
    "This table shows us whether a person is going to be an astronaut depending on three features: the person's age, whether or not the person likes dogs and whether or not the person likes gravity. Let's have a look at the resulting decision tree, before going into detail how it is constructed."
   ]
  },
  {
   "cell_type": "markdown",
   "id": "515ecbac",
   "metadata": {},
   "source": [
    "![dt_full_tree.drawio.png](dt_full_tree.drawio.png)"
   ]
  },
  {
   "cell_type": "markdown",
   "id": "3d378837",
   "metadata": {},
   "source": [
    "## Terms\n",
    "The decision tree allows us to decide whether a person is going to be an astronaut by following the pathes from the top to the bottom. The first thing we can observe is, that a decision tree allows us to mix data types. We can use numerical data (\"age\") and categorical data (\"likes dogs\", \"likes gravity\") in the same tree. Let's now get familiar with some terms.\n",
    "\n",
    "**Root Node:** The top-level node. The first decision that is taken.\n",
    "\n",
    "**Branches:** Branches represent sub-trees.\n",
    "\n",
    "**Node:** A node represents a split into further (child) nodes.\n",
    "\n",
    "**Leaf:** Leafs are at the end of the branches, i.e. they don't split any more. They represent possible outcomes for each action. \n",
    "\n",
    "**Parent Node:** A node which precedes a (child) nodes is called a parent node.\n",
    "\n",
    "**Child Node:**  A node under another node is a child node.\n",
    "\n",
    "**Splitting:** The process of dividing a node into two (child) nodes.\n",
    "\n",
    "**Pruning:** Removing the (child) nodes of a parent node is called pruning. A tree is grown through splitting and shrunk through pruning."
   ]
  },
  {
   "cell_type": "markdown",
   "id": "a5fbd5a6",
   "metadata": {},
   "source": [
    "![decision_tree.drawio.png](decision_tree.drawio.png)\n",
    "*decision tree illustration*"
   ]
  },
  {
   "cell_type": "markdown",
   "id": "578f846c",
   "metadata": {},
   "source": [
    "## Create a Decision  Tree\n",
    "\n",
    "To create a decision tree we need to find a way to split the data set ($D$) into two data sets ($D_1$) and ($D_2$). There are different criteria that can be used in order to find the next split, see e.g. [here](https://www.analyticsvidhya.com/blog/2020/06/4-ways-split-decision-tree/#:~:text=Steps%20to%20split%20a%20decision%20tree%20using%20Information%20Gain%3A,entropy%20or%20highest%20information%20gain). We will concentrate on one of them: **Gini Impurity**, which is a criterium for categorical target variables and also the criterium used by the python library [scikit-learn](https://scikit-learn.org/stable/modules/tree.html#classification). \n",
    "\n",
    "### Gini Impurity\n",
    "\n",
    "The Gini Impurity is calculated as follows:\n",
    "\n",
    "Gini Impurity ($D$) = $\\frac{n_1}{n} * Gini(D_1) + \\frac{n_2}{n} * Gini(D_2)$\n",
    "\n",
    "with $n = n_1 + n_2$ the size of the data set ($D$) and\n",
    "\n",
    "Gini($D_j$) = $1 - \\sum_{j=1}^{c} p_j^2$,\n",
    "\n",
    "with $p_j$ the probability of samples belonging to class $j$ at a given node, and $c$ the number of classes.\n",
    "The lower the Gini Impurity, the higher is the homogeneity of the node. The Gini Impurity of a pure node is zero. To split a decision tree using Gini Impurity, the following steps need to be performed.\n",
    "\n",
    "1. For each possible split, calculate the Gini Impurity of each child node\n",
    "\n",
    "2. Calculate the Gini Impurity of each split as the weighted average Gini Impurity of child nodes\n",
    "\n",
    "3. Select the split with the lowest value of Gini Impurity\n",
    "\n",
    "Until you achieve homogeneous nodes, repeat steps 1-3\n",
    "\n",
    "To understand this better, let's have a look at an example."
   ]
  },
  {
   "cell_type": "markdown",
   "id": "578274c6",
   "metadata": {},
   "source": [
    "## First Example: Decision Tree with two binary features\n",
    "\n",
    "Before greating the decision tree for our entire dataset, we will first consider a subset, that only considers two features: \"likes gravity\" and \"likes dogs\"."
   ]
  },
  {
   "cell_type": "code",
   "execution_count": 5,
   "id": "ccb17c1f",
   "metadata": {},
   "outputs": [
    {
     "data": {
      "text/html": [
       "<div>\n",
       "<style scoped>\n",
       "    .dataframe tbody tr th:only-of-type {\n",
       "        vertical-align: middle;\n",
       "    }\n",
       "\n",
       "    .dataframe tbody tr th {\n",
       "        vertical-align: top;\n",
       "    }\n",
       "\n",
       "    .dataframe thead th {\n",
       "        text-align: right;\n",
       "    }\n",
       "</style>\n",
       "<table border=\"1\" class=\"dataframe\">\n",
       "  <thead>\n",
       "    <tr style=\"text-align: right;\">\n",
       "      <th></th>\n",
       "      <th>likes_dogs</th>\n",
       "      <th>likes_gravity</th>\n",
       "      <th>going_to_be_an_astronaut</th>\n",
       "    </tr>\n",
       "  </thead>\n",
       "  <tbody>\n",
       "    <tr>\n",
       "      <th>0</th>\n",
       "      <td>0</td>\n",
       "      <td>0</td>\n",
       "      <td>0</td>\n",
       "    </tr>\n",
       "    <tr>\n",
       "      <th>1</th>\n",
       "      <td>1</td>\n",
       "      <td>1</td>\n",
       "      <td>1</td>\n",
       "    </tr>\n",
       "    <tr>\n",
       "      <th>2</th>\n",
       "      <td>0</td>\n",
       "      <td>1</td>\n",
       "      <td>1</td>\n",
       "    </tr>\n",
       "    <tr>\n",
       "      <th>3</th>\n",
       "      <td>0</td>\n",
       "      <td>0</td>\n",
       "      <td>0</td>\n",
       "    </tr>\n",
       "    <tr>\n",
       "      <th>4</th>\n",
       "      <td>0</td>\n",
       "      <td>0</td>\n",
       "      <td>0</td>\n",
       "    </tr>\n",
       "    <tr>\n",
       "      <th>5</th>\n",
       "      <td>1</td>\n",
       "      <td>1</td>\n",
       "      <td>1</td>\n",
       "    </tr>\n",
       "    <tr>\n",
       "      <th>6</th>\n",
       "      <td>1</td>\n",
       "      <td>0</td>\n",
       "      <td>0</td>\n",
       "    </tr>\n",
       "    <tr>\n",
       "      <th>7</th>\n",
       "      <td>1</td>\n",
       "      <td>1</td>\n",
       "      <td>1</td>\n",
       "    </tr>\n",
       "    <tr>\n",
       "      <th>8</th>\n",
       "      <td>0</td>\n",
       "      <td>1</td>\n",
       "      <td>0</td>\n",
       "    </tr>\n",
       "    <tr>\n",
       "      <th>9</th>\n",
       "      <td>1</td>\n",
       "      <td>1</td>\n",
       "      <td>1</td>\n",
       "    </tr>\n",
       "  </tbody>\n",
       "</table>\n",
       "</div>"
      ],
      "text/plain": [
       "   likes_dogs  likes_gravity  going_to_be_an_astronaut\n",
       "0           0              0                         0\n",
       "1           1              1                         1\n",
       "2           0              1                         1\n",
       "3           0              0                         0\n",
       "4           0              0                         0\n",
       "5           1              1                         1\n",
       "6           1              0                         0\n",
       "7           1              1                         1\n",
       "8           0              1                         0\n",
       "9           1              1                         1"
      ]
     },
     "execution_count": 5,
     "metadata": {},
     "output_type": "execute_result"
    }
   ],
   "source": [
    "df1 = df[[\"likes_dogs\", \"likes_gravity\", \"going_to_be_an_astronaut\"]]\n",
    "df1"
   ]
  },
  {
   "cell_type": "markdown",
   "id": "65d18622",
   "metadata": {},
   "source": [
    "The first thing we have to decide is, which feature is going to be the Root Node. We do that by predicting the target with only one of the features and then use the feature that has the lowest Gini Impurity as a root node. That is in our case we build two shallow trees, with just the root node and two leafs. In the first case we use \"likes gravity\" as a root node and in the second case \"likes dogs\". We then calculate the Gini Impurity for both. The trees look like this:"
   ]
  },
  {
   "cell_type": "markdown",
   "id": "3f3d124a",
   "metadata": {},
   "source": [
    "![dt_grav_dogs_stump.drawio.png](dt_grav_dogs_stump.drawio.png)"
   ]
  },
  {
   "cell_type": "markdown",
   "id": "3c1e06e5",
   "metadata": {},
   "source": [
    "The Gini Impurity for these trees are calculated as follows:"
   ]
  },
  {
   "cell_type": "markdown",
   "id": "ad85f407",
   "metadata": {},
   "source": [
    "**Case 1**:\n",
    "\n",
    "Dataset 1:\n",
    "\n",
    "Gini ($D_1$) = $1 - \\frac{5}{5+1}^2 - \\frac{1}{5+1}^2 = 0.28$\n",
    "\n",
    "Dataset 2:\n",
    "\n",
    "Gini ($D_2$) = $1 - \\frac{0}{0+4}^2 - \\frac{4}{0+4}^2 = 0$\n",
    "\n",
    "The Gini Impurity is the weighted mean of both:\n",
    "\n",
    "Gini Impurity = $\\frac{6}{10} * 0.28 + \\frac{4}{10} * 0 = 0.168$"
   ]
  },
  {
   "cell_type": "markdown",
   "id": "57f1ed42",
   "metadata": {},
   "source": [
    "**Case 2**:\n",
    "\n",
    "Dataset 1:\n",
    "\n",
    "Gini ($D_1$) = $1 - \\frac{4}{1+4}^2 - \\frac{1}{1+4}^2 = 0.32$\n",
    "\n",
    "Dataset 2:\n",
    "\n",
    "Gini ($D_2$) = $1 - \\frac{1}{1+4}^2 - \\frac{4}{1+4}^2 = 0.32$\n",
    "\n",
    "The Gini Impurity is the weighted mean of both:\n",
    "\n",
    "Gini Impurity = $\\frac{5}{10} * 0.32 + \\frac{5}{10} * 0.32 = 0.32$"
   ]
  },
  {
   "cell_type": "markdown",
   "id": "5515fb80",
   "metadata": {},
   "source": [
    "That is the first case has lower Gini Impurity and is the chosen split. In this simple example, only one feature remains and we can build the final decision tree."
   ]
  },
  {
   "cell_type": "markdown",
   "id": "3a3c0dc7",
   "metadata": {},
   "source": [
    "![dt_grav_dogs.drawio.png](dt_grav_dogs.drawio.png)"
   ]
  },
  {
   "cell_type": "markdown",
   "id": "8ad58162",
   "metadata": {},
   "source": [
    "## Second Example: Add numerical Variable\n",
    "\n",
    "Until now we considered only a subset of our dataframe, the categorical variables. Now we will add the numerical variable \"age\". The criterium for splitting is the same. We already know the Gini Impurities for \"likes gravity\" and \"likes dogs\". The calculation for the Gini Impurity of a numerical variable is similar, however the decision takes more calculations. The following steps need to be done \n",
    "\n",
    "1. Sort the dataframe by age\n",
    "\n",
    "2. Calculate the mean of neighbouring values\n",
    "\n",
    "3. Calculate the Gini Impurity for all splits for each of these means"
   ]
  },
  {
   "cell_type": "markdown",
   "id": "a2dcdf4a",
   "metadata": {},
   "source": [
    "![dt_numerical_variable.drawio.png](dt_numerical_variable.drawio.png)"
   ]
  },
  {
   "cell_type": "markdown",
   "id": "cd1b9481",
   "metadata": {},
   "source": [
    "![dt_numerical_full.drawio.png](dt_numerical_full.drawio.png)"
   ]
  },
  {
   "cell_type": "markdown",
   "id": "6d3644ef",
   "metadata": {},
   "source": [
    "we see that the Gini Impurity of all possible age splits is higher than the one for \"likes gravity\" and \"likes dogs\". The lowest Gini Impurity is, when using \"likes gravity\", i.e. this is our first split. "
   ]
  },
  {
   "cell_type": "markdown",
   "id": "c1881a59",
   "metadata": {},
   "source": [
    "![dt_grav_split.drawio.png](dt_grav_split.drawio.png)"
   ]
  },
  {
   "cell_type": "markdown",
   "id": "6f9dd982",
   "metadata": {},
   "source": [
    "The subset Dataset 2 is already pure, that is this node is a leaf and no further splitting is necessary. The subset Dataset 1 is not pure and can be split further. We do this in the same way as before: We calculate the Gini Impurity for each feature: \"likes dogs\" and \"age\"."
   ]
  },
  {
   "cell_type": "markdown",
   "id": "b5042749",
   "metadata": {},
   "source": [
    "![dt_split2.drawio.png](dt_split2.drawio.png)"
   ]
  },
  {
   "cell_type": "markdown",
   "id": "f2be3088",
   "metadata": {},
   "source": [
    "We see that the lowest Gini Impurity is given by the split \"likes dogs\". We now can build our final tree."
   ]
  },
  {
   "cell_type": "markdown",
   "id": "cafc89a3",
   "metadata": {},
   "source": [
    "![dt_full_tree.drawio.png](dt_full_tree.drawio.png)"
   ]
  },
  {
   "cell_type": "markdown",
   "id": "3ab15f89",
   "metadata": {},
   "source": [
    "## Advantages and Disadvantages of Decision Trees"
   ]
  },
  {
   "cell_type": "markdown",
   "id": "c00c9312",
   "metadata": {},
   "source": [
    "Decision trees are a popular algorithm for several reasons:\n",
    "\n",
    "Explanatory Power: The output of decision trees is interpretable. It can be understood by people without analytical or mathematical backgrounds. It does not require any statistical knowledge to interpret them.\n",
    "Exploratory data analysis: Decision trees can enable analysts to identify significant variables and important relations between two or more variables, helping to surface the signal contained by many input variables.\n",
    "Minimal data cleaning: Because decision trees are resilient to outliers and missing values, they require less data cleaning than some other algorithms.\n",
    "Any data type: Decision trees can make classifications based on both numerical and categorical variables.\n",
    "Non-parametric: A decision tree is a non-parametric algorithm, as opposed to neural networks, which process input data transformed into a tensor, via tensor multiplication using large number of coefficients, known as parameters.\n",
    "Learn to build AI in Simulations »\n",
    "\n",
    "Disadvantages\n",
    "\n",
    "Overfitting: Over fitting is a common flaw of decision trees. Setting constraints on model parameters (depth limitation) and making the model simpler through pruning are two ways to regularize a decision tree and improve its ability to generalize onto the test set.\n",
    "Predicting continuous variables: While decision trees can ingest continuous numerical input, they are not a practical way to predict such values, since decision-tree predictions must be separated into discrete categories, which results in a loss of information when applying the model to continuous values.\n",
    "Heavy feature engineering: The flip side of a decision tree’s explanatory power is that it requires heavy feature engineering. When dealing with unstructured data or data with latent factors, this makes decision trees sub-optimal. Neural networks are clearly superior in this regard."
   ]
  },
  {
   "cell_type": "markdown",
   "id": "970bc510",
   "metadata": {},
   "source": [
    "# Scikit-learn\n",
    "\n",
    "In Python we can use the scikit-learn libary for building a decision tree (https://scikit-learn.org/stable/modules/tree.html#classification). The resulting tree is the same as we built, only the splitting criteria is named with \"<=\" instead of \"<\", and the \"true\" and \"false\" pathes go to the other direction. That is, there are some differences in the appearence."
   ]
  },
  {
   "cell_type": "code",
   "execution_count": 20,
   "id": "281ec745",
   "metadata": {},
   "outputs": [],
   "source": [
    "clf = DecisionTreeClassifier()\n",
    "X = df.iloc[:,:-1]\n",
    "y = df[\"going_to_be_an_astronaut\"]"
   ]
  },
  {
   "cell_type": "code",
   "execution_count": 21,
   "id": "5e026c08",
   "metadata": {},
   "outputs": [
    {
     "data": {
      "text/html": [
       "<div>\n",
       "<style scoped>\n",
       "    .dataframe tbody tr th:only-of-type {\n",
       "        vertical-align: middle;\n",
       "    }\n",
       "\n",
       "    .dataframe tbody tr th {\n",
       "        vertical-align: top;\n",
       "    }\n",
       "\n",
       "    .dataframe thead th {\n",
       "        text-align: right;\n",
       "    }\n",
       "</style>\n",
       "<table border=\"1\" class=\"dataframe\">\n",
       "  <thead>\n",
       "    <tr style=\"text-align: right;\">\n",
       "      <th></th>\n",
       "      <th>age</th>\n",
       "      <th>likes_dogs</th>\n",
       "      <th>likes_gravity</th>\n",
       "    </tr>\n",
       "  </thead>\n",
       "  <tbody>\n",
       "    <tr>\n",
       "      <th>0</th>\n",
       "      <td>24</td>\n",
       "      <td>0</td>\n",
       "      <td>0</td>\n",
       "    </tr>\n",
       "    <tr>\n",
       "      <th>1</th>\n",
       "      <td>30</td>\n",
       "      <td>1</td>\n",
       "      <td>1</td>\n",
       "    </tr>\n",
       "    <tr>\n",
       "      <th>2</th>\n",
       "      <td>36</td>\n",
       "      <td>0</td>\n",
       "      <td>1</td>\n",
       "    </tr>\n",
       "    <tr>\n",
       "      <th>3</th>\n",
       "      <td>36</td>\n",
       "      <td>0</td>\n",
       "      <td>0</td>\n",
       "    </tr>\n",
       "    <tr>\n",
       "      <th>4</th>\n",
       "      <td>42</td>\n",
       "      <td>0</td>\n",
       "      <td>0</td>\n",
       "    </tr>\n",
       "    <tr>\n",
       "      <th>5</th>\n",
       "      <td>44</td>\n",
       "      <td>1</td>\n",
       "      <td>1</td>\n",
       "    </tr>\n",
       "    <tr>\n",
       "      <th>6</th>\n",
       "      <td>46</td>\n",
       "      <td>1</td>\n",
       "      <td>0</td>\n",
       "    </tr>\n",
       "    <tr>\n",
       "      <th>7</th>\n",
       "      <td>47</td>\n",
       "      <td>1</td>\n",
       "      <td>1</td>\n",
       "    </tr>\n",
       "    <tr>\n",
       "      <th>8</th>\n",
       "      <td>47</td>\n",
       "      <td>0</td>\n",
       "      <td>1</td>\n",
       "    </tr>\n",
       "    <tr>\n",
       "      <th>9</th>\n",
       "      <td>51</td>\n",
       "      <td>1</td>\n",
       "      <td>1</td>\n",
       "    </tr>\n",
       "  </tbody>\n",
       "</table>\n",
       "</div>"
      ],
      "text/plain": [
       "   age  likes_dogs  likes_gravity\n",
       "0   24           0              0\n",
       "1   30           1              1\n",
       "2   36           0              1\n",
       "3   36           0              0\n",
       "4   42           0              0\n",
       "5   44           1              1\n",
       "6   46           1              0\n",
       "7   47           1              1\n",
       "8   47           0              1\n",
       "9   51           1              1"
      ]
     },
     "execution_count": 21,
     "metadata": {},
     "output_type": "execute_result"
    }
   ],
   "source": [
    "X"
   ]
  },
  {
   "cell_type": "code",
   "execution_count": 22,
   "id": "db4c534e",
   "metadata": {},
   "outputs": [
    {
     "data": {
      "text/plain": [
       "DecisionTreeClassifier()"
      ]
     },
     "execution_count": 22,
     "metadata": {},
     "output_type": "execute_result"
    }
   ],
   "source": [
    "clf.fit(X,y)"
   ]
  },
  {
   "cell_type": "code",
   "execution_count": 26,
   "id": "5dce2e00",
   "metadata": {},
   "outputs": [
    {
     "data": {
      "image/png": "[encoded data removed]",
      "text/plain": [
       "<Figure size 432x288 with 1 Axes>"
      ]
     },
     "metadata": {
      "needs_background": "light"
     },
     "output_type": "display_data"
    }
   ],
   "source": [
    "plot_tree(clf, feature_names=['age', 'likes_dogs', 'likes_gravity'], fontsize=8);"
   ]
  },
  {
   "cell_type": "markdown",
   "id": "45483224",
   "metadata": {},
   "source": [
    "# References\n",
    "\n",
    "* https://wiki.pathmind.com/decision-tree\n",
    "* https://www.analyticsvidhya.com/blog/2020/06/4-ways-split-decision-tree/#:~:text=Steps%20to%20split%20a%20decision%20tree%20using%20Information%20Gain%3A,entropy%20or%20highest%20information%20gain"
   ]
  },
  {
   "cell_type": "code",
   "execution_count": null,
   "id": "668cdcb2",
   "metadata": {},
   "outputs": [],
   "source": []
  }
 ],
 "metadata": {
  "kernelspec": {
   "display_name": "Python 3 (ipykernel)",
   "language": "python",
   "name": "python3"
  },
  "language_info": {
   "codemirror_mode": {
    "name": "ipython",
    "version": 3
   },
   "file_extension": ".py",
   "mimetype": "text/x-python",
   "name": "python",
   "nbconvert_exporter": "python",
   "pygments_lexer": "ipython3",
   "version": "3.8.3"
  }
 },
 "nbformat": 4,
 "nbformat_minor": 5
}
