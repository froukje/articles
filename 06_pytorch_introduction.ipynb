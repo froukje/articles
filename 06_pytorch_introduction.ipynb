{
 "cells": [
  {
   "cell_type": "markdown",
   "id": "dcdd7bfd",
   "metadata": {},
   "source": [
    "# Problem Understanding: Water Quality\n",
    "\n",
    "Data source: https://www.kaggle.com/datasets/adityakadiwal/water-potability\n",
    "\n",
    "As motivation the author of the dataset says the following:\n",
    "\n",
    "> Access to safe drinking-water is essential to health, a basic human right and a component of effective policy for health protection. This is important as a health and development issue at a national, regional and local level. In some regions, it has been shown that investments in water supply and sanitation can yield a net economic benefit, since the reductions in adverse health effects and health care costs outweigh the costs of undertaking the interventions.\n",
    "\n",
    "In order to be clean enough for drinking, water needs to fulfill different criteria. This dataset contains 9 features, that describe different aspects of water and which can be used to classify water in drinkable or not drinkable. The following features are given:\n",
    "\n",
    "|Feature | Short Description |\n",
    "|--------|:-------------|\n",
    "|ph      | pH of water (0 to 14)|\n",
    "|Hardness| Capacity of water to precipitate soap in mg/L.|\n",
    "|Solids  | Total dissolved solids in ppm.|\n",
    "|Chloramines | Amount of Chloramines in ppm.|\n",
    "|Sulfate | Amount of Sulfates dissolved in mg/L.|\n",
    "|Conductivity | Electrical conductivity of water in μS/cm.|\n",
    "|Organic_carbon | Amount of organic carbon in ppm.|\n",
    "|Trihalomethanes | Amount of Trihalomethanes in μg/L.|\n",
    "|Turbidity | Measure of light emiting property of water in NTU.|\n",
    "|**Potability (label)**| Indicates if water is safe for human consumption. Potable: 1, Not potable: 0|\n",
    "\n",
    "The author of the dataset gives a more detailed description:\n",
    "\n",
    ">**pH value:**\n",
    "PH is an important parameter in evaluating the acid–base balance of water. It is also the indicator of acidic or alkaline condition of water status. WHO has recommended maximum permissible limit of pH from 6.5 to 8.5. The current investigation ranges were 6.52–6.83 which are in the range of WHO standards.\n",
    ">\n",
    ">**Hardness:**\n",
    "Hardness is mainly caused by calcium and magnesium salts. These salts are dissolved from geologic deposits through which water travels. The length of time water is in contact with hardness producing material helps determine how much hardness there is in raw water. Hardness was originally defined as the capacity of water to precipitate soap caused by Calcium and Magnesium.\n",
    ">\n",
    ">**Solids (Total dissolved solids - TDS):**\n",
    "Water has the ability to dissolve a wide range of inorganic and some organic minerals or salts such as potassium, calcium, sodium, bicarbonates, chlorides, magnesium, sulfates etc. These minerals produced un-wanted taste and diluted color in appearance of water. This is the important parameter for the use of water. The water with high TDS value indicates that water is highly mineralized. Desirable limit for TDS is 500 mg/l and maximum limit is 1000 mg/l which prescribed for drinking purpose.\n",
    ">\n",
    ">**Chloramines:**\n",
    "Chlorine and chloramine are the major disinfectants used in public water systems. Chloramines are most commonly formed when ammonia is added to chlorine to treat drinking water. Chlorine levels up to 4 milligrams per liter (mg/L or 4 parts per million (ppm)) are considered safe in drinking water.\n",
    ">\n",
    ">**Sulfate:**\n",
    "Sulfates are naturally occurring substances that are found in minerals, soil, and rocks. They are present in ambient air, groundwater, plants, and food. The principal commercial use of sulfate is in the chemical industry. Sulfate concentration in seawater is about 2,700 milligrams per liter (mg/L). It ranges from 3 to 30 mg/L in most freshwater supplies, although much higher concentrations (1000 mg/L) are found in some geographic locations.\n",
    ">\n",
    ">**Conductivity:**\n",
    "Pure water is not a good conductor of electric current rather’s a good insulator. Increase in ions concentration enhances the electrical conductivity of water. Generally, the amount of dissolved solids in water determines the electrical conductivity. Electrical conductivity (EC) actually measures the ionic process of a solution that enables it to transmit current. According to WHO standards, EC value should not exceeded 400 μS/cm.\n",
    ">\n",
    ">**Organic_carbon:**\n",
    "Total Organic Carbon (TOC) in source waters comes from decaying natural organic matter (NOM) as well as synthetic sources. TOC is a measure of the total amount of carbon in organic compounds in pure water. According to US EPA < 2 mg/L as TOC in treated / drinking water, and < 4 mg/Lit in source water which is use for treatment.\n",
    ">\n",
    ">**Trihalomethanes:**\n",
    "THMs are chemicals which may be found in water treated with chlorine. The concentration of THMs in drinking water varies according to the level of organic material in the water, the amount of chlorine required to treat the water, and the temperature of the water that is being treated. THM levels up to 80 ppm is considered safe in drinking water.\n",
    ">\n",
    ">**Turbidity:**\n",
    "The turbidity of water depends on the quantity of solid matter present in the suspended state. It is a measure of light emitting properties of water and the test is used to indicate the quality of waste discharge with respect to colloidal matter. The mean turbidity value obtained for Wondo Genet Campus (0.98 NTU) is lower than the WHO recommended value of 5.00 NTU."
   ]
  },
  {
   "cell_type": "markdown",
   "id": "e335cb53",
   "metadata": {},
   "source": [
    "# Setup\n",
    "\n",
    "Load all packages needed for this notebook"
   ]
  },
  {
   "cell_type": "code",
   "execution_count": 1,
   "id": "be0369db",
   "metadata": {},
   "outputs": [],
   "source": [
    "import pandas as pd\n",
    "import numpy as np\n",
    "import random\n",
    "\n",
    "# sklearn package for data preparation\n",
    "from sklearn.preprocessing import StandardScaler\n",
    "from sklearn.model_selection import train_test_split\n",
    "from sklearn.utils import resample\n",
    "\n",
    "# plotting libraries\n",
    "import matplotlib.pyplot as plt\n",
    "import seaborn as sns\n",
    "\n",
    "# pytorch packages\n",
    "import torch\n",
    "import torch.nn as nn\n",
    "from torch.utils.data import Dataset, DataLoader\n",
    "\n",
    "# set a fixed random state to produce the same results\n",
    "RANDOM_STATE = 42\n",
    "random.seed(RANDOM_STATE)\n",
    "np.random.seed(RANDOM_STATE)"
   ]
  },
  {
   "cell_type": "markdown",
   "id": "e6cefaa5",
   "metadata": {},
   "source": [
    "# Read Data\n",
    "\n",
    "The data is stored in a ```.csv``` file, we use pandas to read it as a dataframe (```df```). To get a first impression of the data, we use ```df.head()``` and ```df.tail``` to show the first and last rows of the dataframe."
   ]
  },
  {
   "cell_type": "code",
   "execution_count": 2,
   "id": "39f511c3",
   "metadata": {},
   "outputs": [
    {
     "data": {
      "text/html": [
       "<div>\n",
       "<style scoped>\n",
       "    .dataframe tbody tr th:only-of-type {\n",
       "        vertical-align: middle;\n",
       "    }\n",
       "\n",
       "    .dataframe tbody tr th {\n",
       "        vertical-align: top;\n",
       "    }\n",
       "\n",
       "    .dataframe thead th {\n",
       "        text-align: right;\n",
       "    }\n",
       "</style>\n",
       "<table border=\"1\" class=\"dataframe\">\n",
       "  <thead>\n",
       "    <tr style=\"text-align: right;\">\n",
       "      <th></th>\n",
       "      <th>ph</th>\n",
       "      <th>Hardness</th>\n",
       "      <th>Solids</th>\n",
       "      <th>Chloramines</th>\n",
       "      <th>Sulfate</th>\n",
       "      <th>Conductivity</th>\n",
       "      <th>Organic_carbon</th>\n",
       "      <th>Trihalomethanes</th>\n",
       "      <th>Turbidity</th>\n",
       "      <th>Potability</th>\n",
       "    </tr>\n",
       "  </thead>\n",
       "  <tbody>\n",
       "    <tr>\n",
       "      <th>0</th>\n",
       "      <td>NaN</td>\n",
       "      <td>204.890455</td>\n",
       "      <td>20791.318981</td>\n",
       "      <td>7.300212</td>\n",
       "      <td>368.516441</td>\n",
       "      <td>564.308654</td>\n",
       "      <td>10.379783</td>\n",
       "      <td>86.990970</td>\n",
       "      <td>2.963135</td>\n",
       "      <td>0</td>\n",
       "    </tr>\n",
       "    <tr>\n",
       "      <th>1</th>\n",
       "      <td>3.716080</td>\n",
       "      <td>129.422921</td>\n",
       "      <td>18630.057858</td>\n",
       "      <td>6.635246</td>\n",
       "      <td>NaN</td>\n",
       "      <td>592.885359</td>\n",
       "      <td>15.180013</td>\n",
       "      <td>56.329076</td>\n",
       "      <td>4.500656</td>\n",
       "      <td>0</td>\n",
       "    </tr>\n",
       "    <tr>\n",
       "      <th>2</th>\n",
       "      <td>8.099124</td>\n",
       "      <td>224.236259</td>\n",
       "      <td>19909.541732</td>\n",
       "      <td>9.275884</td>\n",
       "      <td>NaN</td>\n",
       "      <td>418.606213</td>\n",
       "      <td>16.868637</td>\n",
       "      <td>66.420093</td>\n",
       "      <td>3.055934</td>\n",
       "      <td>0</td>\n",
       "    </tr>\n",
       "    <tr>\n",
       "      <th>3</th>\n",
       "      <td>8.316766</td>\n",
       "      <td>214.373394</td>\n",
       "      <td>22018.417441</td>\n",
       "      <td>8.059332</td>\n",
       "      <td>356.886136</td>\n",
       "      <td>363.266516</td>\n",
       "      <td>18.436524</td>\n",
       "      <td>100.341674</td>\n",
       "      <td>4.628771</td>\n",
       "      <td>0</td>\n",
       "    </tr>\n",
       "    <tr>\n",
       "      <th>4</th>\n",
       "      <td>9.092223</td>\n",
       "      <td>181.101509</td>\n",
       "      <td>17978.986339</td>\n",
       "      <td>6.546600</td>\n",
       "      <td>310.135738</td>\n",
       "      <td>398.410813</td>\n",
       "      <td>11.558279</td>\n",
       "      <td>31.997993</td>\n",
       "      <td>4.075075</td>\n",
       "      <td>0</td>\n",
       "    </tr>\n",
       "  </tbody>\n",
       "</table>\n",
       "</div>"
      ],
      "text/plain": [
       "         ph    Hardness        Solids  Chloramines     Sulfate  Conductivity  \\\n",
       "0       NaN  204.890455  20791.318981     7.300212  368.516441    564.308654   \n",
       "1  3.716080  129.422921  18630.057858     6.635246         NaN    592.885359   \n",
       "2  8.099124  224.236259  19909.541732     9.275884         NaN    418.606213   \n",
       "3  8.316766  214.373394  22018.417441     8.059332  356.886136    363.266516   \n",
       "4  9.092223  181.101509  17978.986339     6.546600  310.135738    398.410813   \n",
       "\n",
       "   Organic_carbon  Trihalomethanes  Turbidity  Potability  \n",
       "0       10.379783        86.990970   2.963135           0  \n",
       "1       15.180013        56.329076   4.500656           0  \n",
       "2       16.868637        66.420093   3.055934           0  \n",
       "3       18.436524       100.341674   4.628771           0  \n",
       "4       11.558279        31.997993   4.075075           0  "
      ]
     },
     "execution_count": 2,
     "metadata": {},
     "output_type": "execute_result"
    }
   ],
   "source": [
    "df = pd.read_csv(\"data/water_potability.csv\")\n",
    "df.head()"
   ]
  },
  {
   "cell_type": "code",
   "execution_count": 3,
   "id": "af1e4e1e",
   "metadata": {},
   "outputs": [
    {
     "data": {
      "text/html": [
       "<div>\n",
       "<style scoped>\n",
       "    .dataframe tbody tr th:only-of-type {\n",
       "        vertical-align: middle;\n",
       "    }\n",
       "\n",
       "    .dataframe tbody tr th {\n",
       "        vertical-align: top;\n",
       "    }\n",
       "\n",
       "    .dataframe thead th {\n",
       "        text-align: right;\n",
       "    }\n",
       "</style>\n",
       "<table border=\"1\" class=\"dataframe\">\n",
       "  <thead>\n",
       "    <tr style=\"text-align: right;\">\n",
       "      <th></th>\n",
       "      <th>ph</th>\n",
       "      <th>Hardness</th>\n",
       "      <th>Solids</th>\n",
       "      <th>Chloramines</th>\n",
       "      <th>Sulfate</th>\n",
       "      <th>Conductivity</th>\n",
       "      <th>Organic_carbon</th>\n",
       "      <th>Trihalomethanes</th>\n",
       "      <th>Turbidity</th>\n",
       "      <th>Potability</th>\n",
       "    </tr>\n",
       "  </thead>\n",
       "  <tbody>\n",
       "    <tr>\n",
       "      <th>3271</th>\n",
       "      <td>4.668102</td>\n",
       "      <td>193.681735</td>\n",
       "      <td>47580.991603</td>\n",
       "      <td>7.166639</td>\n",
       "      <td>359.948574</td>\n",
       "      <td>526.424171</td>\n",
       "      <td>13.894419</td>\n",
       "      <td>66.687695</td>\n",
       "      <td>4.435821</td>\n",
       "      <td>1</td>\n",
       "    </tr>\n",
       "    <tr>\n",
       "      <th>3272</th>\n",
       "      <td>7.808856</td>\n",
       "      <td>193.553212</td>\n",
       "      <td>17329.802160</td>\n",
       "      <td>8.061362</td>\n",
       "      <td>NaN</td>\n",
       "      <td>392.449580</td>\n",
       "      <td>19.903225</td>\n",
       "      <td>NaN</td>\n",
       "      <td>2.798243</td>\n",
       "      <td>1</td>\n",
       "    </tr>\n",
       "    <tr>\n",
       "      <th>3273</th>\n",
       "      <td>9.419510</td>\n",
       "      <td>175.762646</td>\n",
       "      <td>33155.578218</td>\n",
       "      <td>7.350233</td>\n",
       "      <td>NaN</td>\n",
       "      <td>432.044783</td>\n",
       "      <td>11.039070</td>\n",
       "      <td>69.845400</td>\n",
       "      <td>3.298875</td>\n",
       "      <td>1</td>\n",
       "    </tr>\n",
       "    <tr>\n",
       "      <th>3274</th>\n",
       "      <td>5.126763</td>\n",
       "      <td>230.603758</td>\n",
       "      <td>11983.869376</td>\n",
       "      <td>6.303357</td>\n",
       "      <td>NaN</td>\n",
       "      <td>402.883113</td>\n",
       "      <td>11.168946</td>\n",
       "      <td>77.488213</td>\n",
       "      <td>4.708658</td>\n",
       "      <td>1</td>\n",
       "    </tr>\n",
       "    <tr>\n",
       "      <th>3275</th>\n",
       "      <td>7.874671</td>\n",
       "      <td>195.102299</td>\n",
       "      <td>17404.177061</td>\n",
       "      <td>7.509306</td>\n",
       "      <td>NaN</td>\n",
       "      <td>327.459760</td>\n",
       "      <td>16.140368</td>\n",
       "      <td>78.698446</td>\n",
       "      <td>2.309149</td>\n",
       "      <td>1</td>\n",
       "    </tr>\n",
       "  </tbody>\n",
       "</table>\n",
       "</div>"
      ],
      "text/plain": [
       "            ph    Hardness        Solids  Chloramines     Sulfate  \\\n",
       "3271  4.668102  193.681735  47580.991603     7.166639  359.948574   \n",
       "3272  7.808856  193.553212  17329.802160     8.061362         NaN   \n",
       "3273  9.419510  175.762646  33155.578218     7.350233         NaN   \n",
       "3274  5.126763  230.603758  11983.869376     6.303357         NaN   \n",
       "3275  7.874671  195.102299  17404.177061     7.509306         NaN   \n",
       "\n",
       "      Conductivity  Organic_carbon  Trihalomethanes  Turbidity  Potability  \n",
       "3271    526.424171       13.894419        66.687695   4.435821           1  \n",
       "3272    392.449580       19.903225              NaN   2.798243           1  \n",
       "3273    432.044783       11.039070        69.845400   3.298875           1  \n",
       "3274    402.883113       11.168946        77.488213   4.708658           1  \n",
       "3275    327.459760       16.140368        78.698446   2.309149           1  "
      ]
     },
     "execution_count": 3,
     "metadata": {},
     "output_type": "execute_result"
    }
   ],
   "source": [
    "df.tail()"
   ]
  },
  {
   "cell_type": "markdown",
   "id": "70cb07c8",
   "metadata": {},
   "source": [
    "We use ```df.info()``` to show us if and how many missing values the dataframe contains and the type of each feature. Then we use ```df.describe()``` to get some statistacal parameters."
   ]
  },
  {
   "cell_type": "code",
   "execution_count": 4,
   "id": "40eea265",
   "metadata": {},
   "outputs": [
    {
     "name": "stdout",
     "output_type": "stream",
     "text": [
      "<class 'pandas.core.frame.DataFrame'>\n",
      "RangeIndex: 3276 entries, 0 to 3275\n",
      "Data columns (total 10 columns):\n",
      " #   Column           Non-Null Count  Dtype  \n",
      "---  ------           --------------  -----  \n",
      " 0   ph               2785 non-null   float64\n",
      " 1   Hardness         3276 non-null   float64\n",
      " 2   Solids           3276 non-null   float64\n",
      " 3   Chloramines      3276 non-null   float64\n",
      " 4   Sulfate          2495 non-null   float64\n",
      " 5   Conductivity     3276 non-null   float64\n",
      " 6   Organic_carbon   3276 non-null   float64\n",
      " 7   Trihalomethanes  3114 non-null   float64\n",
      " 8   Turbidity        3276 non-null   float64\n",
      " 9   Potability       3276 non-null   int64  \n",
      "dtypes: float64(9), int64(1)\n",
      "memory usage: 256.1 KB\n"
     ]
    }
   ],
   "source": [
    "df.info()"
   ]
  },
  {
   "cell_type": "code",
   "execution_count": 5,
   "id": "3107e2d5",
   "metadata": {
    "scrolled": true
   },
   "outputs": [
    {
     "data": {
      "text/html": [
       "<div>\n",
       "<style scoped>\n",
       "    .dataframe tbody tr th:only-of-type {\n",
       "        vertical-align: middle;\n",
       "    }\n",
       "\n",
       "    .dataframe tbody tr th {\n",
       "        vertical-align: top;\n",
       "    }\n",
       "\n",
       "    .dataframe thead th {\n",
       "        text-align: right;\n",
       "    }\n",
       "</style>\n",
       "<table border=\"1\" class=\"dataframe\">\n",
       "  <thead>\n",
       "    <tr style=\"text-align: right;\">\n",
       "      <th></th>\n",
       "      <th>ph</th>\n",
       "      <th>Hardness</th>\n",
       "      <th>Solids</th>\n",
       "      <th>Chloramines</th>\n",
       "      <th>Sulfate</th>\n",
       "      <th>Conductivity</th>\n",
       "      <th>Organic_carbon</th>\n",
       "      <th>Trihalomethanes</th>\n",
       "      <th>Turbidity</th>\n",
       "      <th>Potability</th>\n",
       "    </tr>\n",
       "  </thead>\n",
       "  <tbody>\n",
       "    <tr>\n",
       "      <th>count</th>\n",
       "      <td>2785.000000</td>\n",
       "      <td>3276.000000</td>\n",
       "      <td>3276.000000</td>\n",
       "      <td>3276.000000</td>\n",
       "      <td>2495.000000</td>\n",
       "      <td>3276.000000</td>\n",
       "      <td>3276.000000</td>\n",
       "      <td>3114.000000</td>\n",
       "      <td>3276.000000</td>\n",
       "      <td>3276.000000</td>\n",
       "    </tr>\n",
       "    <tr>\n",
       "      <th>mean</th>\n",
       "      <td>7.080795</td>\n",
       "      <td>196.369496</td>\n",
       "      <td>22014.092526</td>\n",
       "      <td>7.122277</td>\n",
       "      <td>333.775777</td>\n",
       "      <td>426.205111</td>\n",
       "      <td>14.284970</td>\n",
       "      <td>66.396293</td>\n",
       "      <td>3.966786</td>\n",
       "      <td>0.390110</td>\n",
       "    </tr>\n",
       "    <tr>\n",
       "      <th>std</th>\n",
       "      <td>1.594320</td>\n",
       "      <td>32.879761</td>\n",
       "      <td>8768.570828</td>\n",
       "      <td>1.583085</td>\n",
       "      <td>41.416840</td>\n",
       "      <td>80.824064</td>\n",
       "      <td>3.308162</td>\n",
       "      <td>16.175008</td>\n",
       "      <td>0.780382</td>\n",
       "      <td>0.487849</td>\n",
       "    </tr>\n",
       "    <tr>\n",
       "      <th>min</th>\n",
       "      <td>0.000000</td>\n",
       "      <td>47.432000</td>\n",
       "      <td>320.942611</td>\n",
       "      <td>0.352000</td>\n",
       "      <td>129.000000</td>\n",
       "      <td>181.483754</td>\n",
       "      <td>2.200000</td>\n",
       "      <td>0.738000</td>\n",
       "      <td>1.450000</td>\n",
       "      <td>0.000000</td>\n",
       "    </tr>\n",
       "    <tr>\n",
       "      <th>25%</th>\n",
       "      <td>6.093092</td>\n",
       "      <td>176.850538</td>\n",
       "      <td>15666.690297</td>\n",
       "      <td>6.127421</td>\n",
       "      <td>307.699498</td>\n",
       "      <td>365.734414</td>\n",
       "      <td>12.065801</td>\n",
       "      <td>55.844536</td>\n",
       "      <td>3.439711</td>\n",
       "      <td>0.000000</td>\n",
       "    </tr>\n",
       "    <tr>\n",
       "      <th>50%</th>\n",
       "      <td>7.036752</td>\n",
       "      <td>196.967627</td>\n",
       "      <td>20927.833607</td>\n",
       "      <td>7.130299</td>\n",
       "      <td>333.073546</td>\n",
       "      <td>421.884968</td>\n",
       "      <td>14.218338</td>\n",
       "      <td>66.622485</td>\n",
       "      <td>3.955028</td>\n",
       "      <td>0.000000</td>\n",
       "    </tr>\n",
       "    <tr>\n",
       "      <th>75%</th>\n",
       "      <td>8.062066</td>\n",
       "      <td>216.667456</td>\n",
       "      <td>27332.762127</td>\n",
       "      <td>8.114887</td>\n",
       "      <td>359.950170</td>\n",
       "      <td>481.792304</td>\n",
       "      <td>16.557652</td>\n",
       "      <td>77.337473</td>\n",
       "      <td>4.500320</td>\n",
       "      <td>1.000000</td>\n",
       "    </tr>\n",
       "    <tr>\n",
       "      <th>max</th>\n",
       "      <td>14.000000</td>\n",
       "      <td>323.124000</td>\n",
       "      <td>61227.196008</td>\n",
       "      <td>13.127000</td>\n",
       "      <td>481.030642</td>\n",
       "      <td>753.342620</td>\n",
       "      <td>28.300000</td>\n",
       "      <td>124.000000</td>\n",
       "      <td>6.739000</td>\n",
       "      <td>1.000000</td>\n",
       "    </tr>\n",
       "  </tbody>\n",
       "</table>\n",
       "</div>"
      ],
      "text/plain": [
       "                ph     Hardness        Solids  Chloramines      Sulfate  \\\n",
       "count  2785.000000  3276.000000   3276.000000  3276.000000  2495.000000   \n",
       "mean      7.080795   196.369496  22014.092526     7.122277   333.775777   \n",
       "std       1.594320    32.879761   8768.570828     1.583085    41.416840   \n",
       "min       0.000000    47.432000    320.942611     0.352000   129.000000   \n",
       "25%       6.093092   176.850538  15666.690297     6.127421   307.699498   \n",
       "50%       7.036752   196.967627  20927.833607     7.130299   333.073546   \n",
       "75%       8.062066   216.667456  27332.762127     8.114887   359.950170   \n",
       "max      14.000000   323.124000  61227.196008    13.127000   481.030642   \n",
       "\n",
       "       Conductivity  Organic_carbon  Trihalomethanes    Turbidity   Potability  \n",
       "count   3276.000000     3276.000000      3114.000000  3276.000000  3276.000000  \n",
       "mean     426.205111       14.284970        66.396293     3.966786     0.390110  \n",
       "std       80.824064        3.308162        16.175008     0.780382     0.487849  \n",
       "min      181.483754        2.200000         0.738000     1.450000     0.000000  \n",
       "25%      365.734414       12.065801        55.844536     3.439711     0.000000  \n",
       "50%      421.884968       14.218338        66.622485     3.955028     0.000000  \n",
       "75%      481.792304       16.557652        77.337473     4.500320     1.000000  \n",
       "max      753.342620       28.300000       124.000000     6.739000     1.000000  "
      ]
     },
     "execution_count": 5,
     "metadata": {},
     "output_type": "execute_result"
    }
   ],
   "source": [
    "df.describe()"
   ]
  },
  {
   "cell_type": "markdown",
   "id": "4a921270",
   "metadata": {},
   "source": [
    "**Observations:**\n",
    "\n",
    "* The dataset contains 9 input features and the target \n",
    "* There are missing values. For we will impute all missing values with the mean of the feature values.\n",
    "* The features have different magnitudes. In the next section we will scale it."
   ]
  },
  {
   "cell_type": "code",
   "execution_count": 6,
   "id": "b5bf53e8",
   "metadata": {},
   "outputs": [],
   "source": [
    "df[\"ph\"].fillna(value=df[\"ph\"].mean(),inplace=True)\n",
    "df[\"Sulfate\"].fillna(value = df[\"Sulfate\"].mean(), inplace = True)\n",
    "df[\"Trihalomethanes\"].fillna(value = df[\"Trihalomethanes\"].mean(), inplace = True)"
   ]
  },
  {
   "cell_type": "markdown",
   "id": "b7207d07",
   "metadata": {},
   "source": [
    "# Preprocessing\n",
    "\n",
    "We call again ```df.info()``` and see that now there are no missing values in the data any more."
   ]
  },
  {
   "cell_type": "code",
   "execution_count": 7,
   "id": "1674f57b",
   "metadata": {},
   "outputs": [
    {
     "name": "stdout",
     "output_type": "stream",
     "text": [
      "<class 'pandas.core.frame.DataFrame'>\n",
      "RangeIndex: 3276 entries, 0 to 3275\n",
      "Data columns (total 10 columns):\n",
      " #   Column           Non-Null Count  Dtype  \n",
      "---  ------           --------------  -----  \n",
      " 0   ph               3276 non-null   float64\n",
      " 1   Hardness         3276 non-null   float64\n",
      " 2   Solids           3276 non-null   float64\n",
      " 3   Chloramines      3276 non-null   float64\n",
      " 4   Sulfate          3276 non-null   float64\n",
      " 5   Conductivity     3276 non-null   float64\n",
      " 6   Organic_carbon   3276 non-null   float64\n",
      " 7   Trihalomethanes  3276 non-null   float64\n",
      " 8   Turbidity        3276 non-null   float64\n",
      " 9   Potability       3276 non-null   int64  \n",
      "dtypes: float64(9), int64(1)\n",
      "memory usage: 256.1 KB\n"
     ]
    }
   ],
   "source": [
    "df.info()"
   ]
  },
  {
   "cell_type": "markdown",
   "id": "671fb046",
   "metadata": {},
   "source": [
    "## Plot the Label and Input Feature Distributions\n",
    "\n",
    "Now we have a look at the distributions of the label and the features. "
   ]
  },
  {
   "cell_type": "code",
   "execution_count": 8,
   "id": "8f26f5ef",
   "metadata": {},
   "outputs": [
    {
     "data": {
      "image/png": "[encoded data removed]",
      "text/plain": [
       "<Figure size 1440x1080 with 10 Axes>"
      ]
     },
     "metadata": {
      "needs_background": "light"
     },
     "output_type": "display_data"
    }
   ],
   "source": [
    "fig = plt.figure(figsize=(20, 15))\n",
    "fig.subplots_adjust(left=None, bottom=None, right=None, top=None, wspace=0.2, hspace=0.5)\n",
    "for i, col in enumerate(df.iloc[:,:20].columns):\n",
    "    ax = fig.add_subplot(4, 5, i + 1)\n",
    "    ax.set_title(col)\n",
    "    sns.histplot(df[col])\n",
    "    plt.xticks(rotation=25)"
   ]
  },
  {
   "cell_type": "markdown",
   "id": "acb96386",
   "metadata": {},
   "source": [
    "We can observe that the plots are mainly normally distributed. Some features (as e.g. ph and sulfate) show a strong peak in the center."
   ]
  },
  {
   "cell_type": "markdown",
   "id": "419c3007",
   "metadata": {},
   "source": [
    "Let's have a closer look at the distribution of the labels."
   ]
  },
  {
   "cell_type": "code",
   "execution_count": 9,
   "id": "b2f7086b",
   "metadata": {},
   "outputs": [
    {
     "data": {
      "image/png": "[encoded data removed]",
      "text/plain": [
       "<Figure size 360x216 with 1 Axes>"
      ]
     },
     "metadata": {
      "needs_background": "light"
     },
     "output_type": "display_data"
    }
   ],
   "source": [
    "fig = plt.figure(figsize=(5, 3))\n",
    "p = sns.countplot(y='Potability', data=df)\n",
    "plt.xticks(rotation=25);"
   ]
  },
  {
   "cell_type": "code",
   "execution_count": 10,
   "id": "b129be12",
   "metadata": {},
   "outputs": [
    {
     "data": {
      "text/plain": [
       "0    1998\n",
       "1    1278\n",
       "Name: Potability, dtype: int64"
      ]
     },
     "execution_count": 10,
     "metadata": {},
     "output_type": "execute_result"
    }
   ],
   "source": [
    "df['Potability'].value_counts()"
   ]
  },
  {
   "cell_type": "markdown",
   "id": "7e37dfac",
   "metadata": {},
   "source": [
    "We see that the label is not equally distributed. There are different possibilities how to deal with this. For the sake of simplicity, we will upsample the minority class by randomly drawing samples until we reach the number of samples of the majority class. Note, that this may lead to overfitting, since we use the exact same samples again.\n",
    "\n",
    "In order to to the upsampling, we will use the [```resample```](https://scikit-learn.org/stable/modules/generated/sklearn.utils.resample.html) method from sklearn."
   ]
  },
  {
   "cell_type": "code",
   "execution_count": 11,
   "id": "4a764ffd",
   "metadata": {},
   "outputs": [
    {
     "name": "stdout",
     "output_type": "stream",
     "text": [
      "(1998, 10)\n"
     ]
    }
   ],
   "source": [
    "# define two dataframes \n",
    "# one with only positive (minority class) and one with only negative (majority class) labels\n",
    "df_pos = df[df['Potability'] == 1]\n",
    "df_neg = df[df['Potability'] == 0]\n",
    "\n",
    "water_upsample = resample(df_pos,\n",
    "             replace=True,\n",
    "             n_samples=(df['Potability'] == 0).sum(),\n",
    "             random_state=RANDOM_STATE)\n",
    "\n",
    "print(water_upsample.shape)"
   ]
  },
  {
   "cell_type": "code",
   "execution_count": 12,
   "id": "3f5f10a1",
   "metadata": {},
   "outputs": [
    {
     "data": {
      "text/html": [
       "<div>\n",
       "<style scoped>\n",
       "    .dataframe tbody tr th:only-of-type {\n",
       "        vertical-align: middle;\n",
       "    }\n",
       "\n",
       "    .dataframe tbody tr th {\n",
       "        vertical-align: top;\n",
       "    }\n",
       "\n",
       "    .dataframe thead th {\n",
       "        text-align: right;\n",
       "    }\n",
       "</style>\n",
       "<table border=\"1\" class=\"dataframe\">\n",
       "  <thead>\n",
       "    <tr style=\"text-align: right;\">\n",
       "      <th></th>\n",
       "      <th>ph</th>\n",
       "      <th>Hardness</th>\n",
       "      <th>Solids</th>\n",
       "      <th>Chloramines</th>\n",
       "      <th>Sulfate</th>\n",
       "      <th>Conductivity</th>\n",
       "      <th>Organic_carbon</th>\n",
       "      <th>Trihalomethanes</th>\n",
       "      <th>Turbidity</th>\n",
       "      <th>Potability</th>\n",
       "    </tr>\n",
       "  </thead>\n",
       "  <tbody>\n",
       "    <tr>\n",
       "      <th>3124</th>\n",
       "      <td>7.777665</td>\n",
       "      <td>233.761579</td>\n",
       "      <td>16780.116147</td>\n",
       "      <td>6.123297</td>\n",
       "      <td>323.538055</td>\n",
       "      <td>520.285094</td>\n",
       "      <td>17.794741</td>\n",
       "      <td>60.343891</td>\n",
       "      <td>4.683335</td>\n",
       "      <td>1</td>\n",
       "    </tr>\n",
       "    <tr>\n",
       "      <th>2360</th>\n",
       "      <td>7.221689</td>\n",
       "      <td>203.069029</td>\n",
       "      <td>13703.220377</td>\n",
       "      <td>7.823612</td>\n",
       "      <td>352.124567</td>\n",
       "      <td>412.320490</td>\n",
       "      <td>16.125741</td>\n",
       "      <td>80.058877</td>\n",
       "      <td>3.160818</td>\n",
       "      <td>1</td>\n",
       "    </tr>\n",
       "    <tr>\n",
       "      <th>3128</th>\n",
       "      <td>4.959853</td>\n",
       "      <td>215.854869</td>\n",
       "      <td>9887.830755</td>\n",
       "      <td>6.954231</td>\n",
       "      <td>379.504731</td>\n",
       "      <td>527.479694</td>\n",
       "      <td>14.326638</td>\n",
       "      <td>52.388849</td>\n",
       "      <td>3.455045</td>\n",
       "      <td>1</td>\n",
       "    </tr>\n",
       "    <tr>\n",
       "      <th>2844</th>\n",
       "      <td>6.658834</td>\n",
       "      <td>182.389559</td>\n",
       "      <td>16828.880597</td>\n",
       "      <td>7.071299</td>\n",
       "      <td>355.896890</td>\n",
       "      <td>434.658981</td>\n",
       "      <td>16.618053</td>\n",
       "      <td>69.412284</td>\n",
       "      <td>3.969740</td>\n",
       "      <td>1</td>\n",
       "    </tr>\n",
       "    <tr>\n",
       "      <th>2793</th>\n",
       "      <td>6.336457</td>\n",
       "      <td>185.680004</td>\n",
       "      <td>25927.265432</td>\n",
       "      <td>8.199318</td>\n",
       "      <td>321.817662</td>\n",
       "      <td>490.972426</td>\n",
       "      <td>10.665799</td>\n",
       "      <td>51.552301</td>\n",
       "      <td>4.561220</td>\n",
       "      <td>1</td>\n",
       "    </tr>\n",
       "  </tbody>\n",
       "</table>\n",
       "</div>"
      ],
      "text/plain": [
       "            ph    Hardness        Solids  Chloramines     Sulfate  \\\n",
       "3124  7.777665  233.761579  16780.116147     6.123297  323.538055   \n",
       "2360  7.221689  203.069029  13703.220377     7.823612  352.124567   \n",
       "3128  4.959853  215.854869   9887.830755     6.954231  379.504731   \n",
       "2844  6.658834  182.389559  16828.880597     7.071299  355.896890   \n",
       "2793  6.336457  185.680004  25927.265432     8.199318  321.817662   \n",
       "\n",
       "      Conductivity  Organic_carbon  Trihalomethanes  Turbidity  Potability  \n",
       "3124    520.285094       17.794741        60.343891   4.683335           1  \n",
       "2360    412.320490       16.125741        80.058877   3.160818           1  \n",
       "3128    527.479694       14.326638        52.388849   3.455045           1  \n",
       "2844    434.658981       16.618053        69.412284   3.969740           1  \n",
       "2793    490.972426       10.665799        51.552301   4.561220           1  "
      ]
     },
     "execution_count": 12,
     "metadata": {},
     "output_type": "execute_result"
    }
   ],
   "source": [
    "# concatenate the upsampled minority class with the majority class\n",
    "df_upsampled = pd.concat([water_upsample, df_neg])\n",
    "df_upsampled.head()"
   ]
  },
  {
   "cell_type": "markdown",
   "id": "137fc3af",
   "metadata": {},
   "source": [
    "We plot the label distribution again and see that now both classes contain the same amount of samples."
   ]
  },
  {
   "cell_type": "code",
   "execution_count": 13,
   "id": "34368b50",
   "metadata": {},
   "outputs": [
    {
     "name": "stderr",
     "output_type": "stream",
     "text": [
      "/home/frauke/anaconda3/envs/super-res/lib/python3.9/site-packages/seaborn/_decorators.py:36: FutureWarning: Pass the following variable as a keyword arg: x. From version 0.12, the only valid positional argument will be `data`, and passing other arguments without an explicit keyword will result in an error or misinterpretation.\n",
      "  warnings.warn(\n"
     ]
    },
    {
     "data": {
      "image/png": "[encoded data removed]",
      "text/plain": [
       "<Figure size 360x216 with 1 Axes>"
      ]
     },
     "metadata": {
      "needs_background": "light"
     },
     "output_type": "display_data"
    }
   ],
   "source": [
    "fig = plt.figure(figsize=(5, 3))\n",
    "p = sns.countplot(df_upsampled['Potability'], data=df_upsampled);"
   ]
  },
  {
   "cell_type": "markdown",
   "id": "cd83bf17",
   "metadata": {},
   "source": [
    "Divide input features (X) and label (y)"
   ]
  },
  {
   "cell_type": "code",
   "execution_count": 15,
   "id": "6ac3b965",
   "metadata": {},
   "outputs": [],
   "source": [
    "# store inputs and label\n",
    "X = df_upsampled.iloc[:,:-1]\n",
    "y = df_upsampled[\"Potability\"]"
   ]
  },
  {
   "cell_type": "markdown",
   "id": "002a291e",
   "metadata": {},
   "source": [
    "## Train-Val-Test Split\n",
    "\n",
    "Divide the dataset in 3 splits: 1 for training, 1 for validation and 1 for testing.\n",
    "\n",
    "The splits are generated randomly, 80% are considered for the training data and about 10% for each validation and test data. We use the [```train_test_split```](https://scikit-learn.org/stable/modules/generated/sklearn.model_selection.train_test_split.html) method from sklearn."
   ]
  },
  {
   "cell_type": "code",
   "execution_count": 16,
   "id": "7c1463b9",
   "metadata": {},
   "outputs": [],
   "source": [
    "X_train_full, X_test, y_train_full, y_test = train_test_split(X, y, test_size=0.1, random_state=RANDOM_STATE, shuffle=True)\n",
    "X_train, X_val, y_train, y_val = train_test_split(X_train_full, y_train_full, test_size=0.11, random_state=RANDOM_STATE, shuffle=True)"
   ]
  },
  {
   "cell_type": "code",
   "execution_count": 17,
   "id": "c1c72309",
   "metadata": {},
   "outputs": [
    {
     "name": "stdout",
     "output_type": "stream",
     "text": [
      "Length training data: 3200\n",
      "Length validation data: 396\n",
      "Length test data: 400\n"
     ]
    }
   ],
   "source": [
    "print(f\"Length training data: {len(X_train)}\")\n",
    "print(f\"Length validation data: {len(X_val)}\")\n",
    "print(f\"Length test data: {len(X_test)}\")"
   ]
  },
  {
   "cell_type": "markdown",
   "id": "b2680687",
   "metadata": {},
   "source": [
    "## Scale Input Features\n",
    "\n",
    "Our dataset only contains numerical data, i.e. all features can be preprocessed equally. We use the [```StandardScaler()```](https://scikit-learn.org/stable/modules/generated/sklearn.preprocessing.StandardScaler.html) from sklearn to do standardize the features."
   ]
  },
  {
   "cell_type": "code",
   "execution_count": 20,
   "id": "413994b1",
   "metadata": {},
   "outputs": [],
   "source": [
    "scaler = StandardScaler()\n",
    "X_train = scaler.fit_transform(X_train)\n",
    "X_val = scaler.transform(X_val)\n",
    "X_test = scaler.transform(X_test)"
   ]
  },
  {
   "cell_type": "markdown",
   "id": "739dfc46",
   "metadata": {},
   "source": [
    "Plot the scaled training, validation and test dataset."
   ]
  },
  {
   "cell_type": "code",
   "execution_count": 18,
   "id": "9073fc3e",
   "metadata": {},
   "outputs": [
    {
     "data": {
      "image/png": "[encoded data removed]",
      "text/plain": [
       "<Figure size 1440x576 with 10 Axes>"
      ]
     },
     "metadata": {
      "needs_background": "light"
     },
     "output_type": "display_data"
    }
   ],
   "source": [
    "fig, axis = plt.subplots(2, 5, figsize=(20,8))\n",
    "for i, ax in enumerate(axis.flat):\n",
    "    sns.histplot(X_train[:,i], ax=ax, alpha=0.5)\n",
    "    sns.histplot(X_val[:,i], ax=ax, color='green', alpha=0.5)\n",
    "    sns.histplot(X_test[:,i], ax=ax, color='orange', alpha=0.5)\n",
    "    ax.set_title(df.columns[i])\n",
    "    ax.set_xlim(-4,4)\n",
    "    if i == 8:\n",
    "        break"
   ]
  },
  {
   "cell_type": "markdown",
   "id": "44252743",
   "metadata": {},
   "source": [
    "# Create a PyTorch Dataset\n",
    "\n",
    "To use the data in a PyTorch model, we first have to create a PyTorch Dataset. For this we inherit from the Dataset class and overwrite the methods ```__init__```, ```__len__```, and ```__getitem__```. The Dataset stores the features and their corresponding labels."
   ]
  },
  {
   "cell_type": "code",
   "execution_count": 19,
   "id": "aa48bfaf",
   "metadata": {},
   "outputs": [],
   "source": [
    "class WaterDataset(Dataset):\n",
    "    def __init__(self, X, y):\n",
    "        \n",
    "        # The __init__ function is run once when instantiating the Dataset object.\n",
    "        self.X = torch.tensor(X)\n",
    "        self.y = torch.tensor(np.array(y).astype(float))\n",
    "        \n",
    "    def __len__(self):\n",
    "        \n",
    "        # The __len__ function returns the number of samples in our dataset.\n",
    "        return len(self.y)\n",
    "        \n",
    "    def __getitem__(self, idx):\n",
    "        \n",
    "        # The __getitem__ function loads and returns a sample from the dataset\n",
    "        # at the given index idx.\n",
    "        return self.X[idx], self.y[idx]"
   ]
  },
  {
   "cell_type": "markdown",
   "id": "18a6f52e",
   "metadata": {},
   "source": [
    "Let's create datasets for our training, validation and test data."
   ]
  },
  {
   "cell_type": "code",
   "execution_count": 20,
   "id": "6cbb1926",
   "metadata": {},
   "outputs": [],
   "source": [
    "train_dataset = WaterDataset(X_train, y_train)\n",
    "val_dataset = WaterDataset(X_val, y_val)\n",
    "test_dataset = WaterDataset(X_test, y_test)"
   ]
  },
  {
   "cell_type": "markdown",
   "id": "50158e39",
   "metadata": {},
   "source": [
    "The data can now be accessed as follows:"
   ]
  },
  {
   "cell_type": "code",
   "execution_count": 21,
   "id": "cf90a476",
   "metadata": {},
   "outputs": [
    {
     "data": {
      "text/plain": [
       "tensor([[-0.8730,  2.3967, -0.5025,  ...,  1.0050,  0.3414, -0.2856],\n",
       "        [-0.4585, -0.1950, -1.1680,  ..., -0.1146,  1.9080, -0.2948],\n",
       "        [ 0.8146, -0.1632, -0.2357,  ...,  1.0623, -1.8319,  1.2632],\n",
       "        ...,\n",
       "        [ 0.7488, -0.3876, -1.3177,  ..., -0.1593,  0.7027, -1.7907],\n",
       "        [ 0.5308,  1.5810, -1.0025,  ..., -0.9903,  0.6316,  0.4009],\n",
       "        [-0.5753,  0.3758,  1.7728,  ..., -2.6353,  0.1125,  0.3266]],\n",
       "       dtype=torch.float64)"
      ]
     },
     "execution_count": 21,
     "metadata": {},
     "output_type": "execute_result"
    }
   ],
   "source": [
    "train_dataset.X"
   ]
  },
  {
   "cell_type": "code",
   "execution_count": 22,
   "id": "aa8ba8eb",
   "metadata": {},
   "outputs": [
    {
     "data": {
      "text/plain": [
       "tensor([1., 1., 0.,  ..., 0., 1., 1.], dtype=torch.float64)"
      ]
     },
     "execution_count": 22,
     "metadata": {},
     "output_type": "execute_result"
    }
   ],
   "source": [
    "train_dataset.y"
   ]
  },
  {
   "cell_type": "markdown",
   "id": "5419b5c4",
   "metadata": {},
   "source": [
    "We can also use the methods ```__len__``` and ```__getitem__```, that we defined."
   ]
  },
  {
   "cell_type": "code",
   "execution_count": 23,
   "id": "d404af49",
   "metadata": {},
   "outputs": [
    {
     "data": {
      "text/plain": [
       "3200"
      ]
     },
     "execution_count": 23,
     "metadata": {},
     "output_type": "execute_result"
    }
   ],
   "source": [
    "# training dataset length\n",
    "train_dataset.X.__len__()"
   ]
  },
  {
   "cell_type": "code",
   "execution_count": 24,
   "id": "d9bf3aaf",
   "metadata": {},
   "outputs": [
    {
     "data": {
      "text/plain": [
       "(tensor([-0.8730,  2.3967, -0.5025, -2.3504,  1.8139,  0.3801,  1.0050,  0.3414,\n",
       "         -0.2856], dtype=torch.float64),\n",
       " tensor(1., dtype=torch.float64))"
      ]
     },
     "execution_count": 24,
     "metadata": {},
     "output_type": "execute_result"
    }
   ],
   "source": [
    "# first item of training dataset \n",
    "train_dataset.__getitem__(0)"
   ]
  },
  {
   "cell_type": "markdown",
   "id": "a1b6e032",
   "metadata": {},
   "source": [
    "This first item consists of two tensors. The first is ```X[0]``` and the second one is ```y[0]```."
   ]
  },
  {
   "cell_type": "markdown",
   "id": "c398724a",
   "metadata": {},
   "source": [
    "## Dataloader\n",
    "\n",
    "Next, we create a Dataloader and wrap it around the dataset. This enables easy access to the data during training and validation. Here we use batches of 16 and shuffle the training data. It is possible to define more hyperparameters. A complete list can be found in the [documentation](https://pytorch.org/docs/stable/nn.html)."
   ]
  },
  {
   "cell_type": "code",
   "execution_count": 25,
   "id": "e8ca8728",
   "metadata": {},
   "outputs": [],
   "source": [
    "train_dataloader = DataLoader(train_dataset, batch_size=32, shuffle=True)\n",
    "val_dataloader = DataLoader(val_dataset, batch_size=32)\n",
    "test_dataloader = DataLoader(test_dataset, batch_size=32)"
   ]
  },
  {
   "cell_type": "markdown",
   "id": "f04e67f3",
   "metadata": {},
   "source": [
    "# Create the Model\n",
    "\n",
    "Now we define a model (```WaterNet```). We inherit from the [```nn.Module```](https://pytorch.org/docs/stable/generated/torch.nn.Module.html) and define the ```__init__``` and ```forward``` methods. We use linear layers ([```nn.Linear```](https://pytorch.org/docs/stable/generated/torch.nn.Linear.html)) following a relu-activation ([```nn.ReLU```](https://pytorch.org/docs/stable/generated/torch.nn.ReLU.html)). To prevent overfitting we add a dropout layer ([```nn.Dropout```](https://pytorch.org/docs/stable/generated/torch.nn.Dropout.html) after the first linear layer. The layers are instantiated in the ```__init__``` method and the model is defined in the ```forward``` method. The number of input features of the first linear layer is 9, the output features can be changed, but must fit to the next input layer. The last number of output feature is 1, since we are considering a binary classification problem, with outputs 0 or 1. Note, that the output here is a probability, which still needs to be turned into the two classes."
   ]
  },
  {
   "cell_type": "code",
   "execution_count": 26,
   "id": "5984f8b0",
   "metadata": {},
   "outputs": [],
   "source": [
    "# our data has 9 features \n",
    "nr_features = 9"
   ]
  },
  {
   "cell_type": "code",
   "execution_count": 27,
   "id": "b904aa12",
   "metadata": {},
   "outputs": [],
   "source": [
    "class WaterNet(nn.Module):\n",
    "    def __init__(self):\n",
    "        super().__init__()\n",
    "        \n",
    "        # define 4 linear layers\n",
    "        # the first input dimension is the number of features\n",
    "        # the output layer is 1 \n",
    "        # the other in and output parameters are hyperparamters and can be changed \n",
    "        self.fc1 = nn.Linear(in_features=nr_features, out_features=64)\n",
    "        self.fc2 = nn.Linear(in_features=64, out_features=32)\n",
    "        self.fc3 = nn.Linear(in_features=32, out_features=16)\n",
    "        self.fc4 = nn.Linear(in_features=16, out_features=1)\n",
    "        self.relu = nn.ReLU()\n",
    "        self.dropout = nn.Dropout()\n",
    "        \n",
    "    def forward(self, x):\n",
    "\n",
    "        # apply the linear layers with a relu activation\n",
    "        x = self.fc1(x)\n",
    "        x = self.relu(x)\n",
    "        x = self.dropout(x)\n",
    "        x = self.fc2(x)\n",
    "        x = self.relu(x)\n",
    "        x = self.fc3(x)\n",
    "        x = self.relu(x)\n",
    "        x = self.fc4(x)\n",
    "    \n",
    "        return x.squeeze()"
   ]
  },
  {
   "cell_type": "code",
   "execution_count": 28,
   "id": "7ffc56fc",
   "metadata": {},
   "outputs": [
    {
     "name": "stdout",
     "output_type": "stream",
     "text": [
      "Model structure: WaterNet(\n",
      "  (fc1): Linear(in_features=9, out_features=64, bias=True)\n",
      "  (fc2): Linear(in_features=64, out_features=32, bias=True)\n",
      "  (fc3): Linear(in_features=32, out_features=16, bias=True)\n",
      "  (fc4): Linear(in_features=16, out_features=1, bias=True)\n",
      "  (relu): ReLU()\n",
      "  (dropout): Dropout(p=0.5, inplace=False)\n",
      ")\n",
      "\n",
      "\n"
     ]
    }
   ],
   "source": [
    "model = WaterNet()\n",
    "print(f\"Model structure: {model}\\n\\n\")"
   ]
  },
  {
   "cell_type": "markdown",
   "id": "71cba973",
   "metadata": {},
   "source": [
    "# Train the Model\n",
    "\n",
    "We now define a function to train the model. The training function we define here is used to train the model for one epoch. Later, we have to loop over it for the number of epochs we want to train our model. The main steps within the training are:\n",
    "\n",
    "1. forward pass (```y_hat = model(x.float())```)\n",
    "\n",
    "Apply the model to the input sample.\n",
    "\n",
    "2. compute the loss (```loss = criterion(y_hat, y.float())```)\n",
    "\n",
    "* criterion is the loss function.\n",
    "* The loss function measures the error between the prediction (```y_hat```) and the true label (```y```).\n",
    "* There are different loss functions depending on the problem we are analyzing. We will define an appropiate one later in this notebook.\n",
    "\n",
    "3. perform backward pass / backpropagation (```loss.backward()```)\n",
    "\n",
    "* In back propagation, the model parameters (weights) are adjusted according to the gradient of the loss function.\n",
    "* To optimize the weights of the parameters in the neural network, we need to compute the derivatives of our loss function with respect these parameters. To compute those derivatives, we call ```loss.backward()```.\n",
    "\n",
    "4. update the weights with the gradients (optimizer.step())\n",
    "\n",
    "* The optimizer, adjusts the model parameters to reduce model error in each training step. It defines the algorithm used to optimize the parameters.\n",
    "* Optimization algorithms define how this process is performed. There are different optimizers available in PyTorch, we will define one later.\n",
    "* We initialize the optimizer by registering the model’s parameters that need to be trained, and passing in the learning rate hyperparameter.\n",
    "\n",
    "These steps are done for all batches.\n",
    "\n",
    "Note, that we have to manually move the model and the data to the defined device. This is important if we want to use GPU(s). Further, the model is set to training mode (```model.train()```) in contrast to the evaluation mode (```model.eval()```) during the validation. This effects e.g. dropout and batch normalization layers, which are treated differently during training and validation.\n",
    "\n",
    "During the training and validation loop we calcuate some metrics: The Accuracy, the Recall, and the precision."
   ]
  },
  {
   "cell_type": "code",
   "execution_count": 29,
   "id": "a1bf109f",
   "metadata": {},
   "outputs": [],
   "source": [
    "def train(model, device, train_dataloader, optimizer, criteriom, epoch, print_every):\n",
    "    '''\n",
    "    parameters:\n",
    "    model - the model used for training\n",
    "    device - the device we work on (cpu or gpu)\n",
    "    train_dataloader - the training data wrapped in a dataloader\n",
    "    optimizer - the optimizer used for optimizing the parameters\n",
    "    criterion - loss function\n",
    "    epoch - current epoch\n",
    "    print_every - integer after how many batches results should be printed\n",
    "    '''\n",
    "    \n",
    "    # create empty list to store the train losses\n",
    "    train_loss = []\n",
    "    # variable to count correct classified samples\n",
    "    correct = 0\n",
    "    # variable to count true positive, false positive and false negative samples\n",
    "    TP = 0\n",
    "    FP = 0\n",
    "    FN = 0\n",
    "    # create an empty list to store the predictions\n",
    "    predictions = []\n",
    "\n",
    "    # set model to training mode, i.e. the model is used for training\n",
    "    # this effects layers like BatchNorm() and Dropout\n",
    "    # in our simple example we don't use these layers\n",
    "    # for the sake of completeness 'model.train()' is included \n",
    "    model.train()\n",
    "\n",
    "    # loop over batches\n",
    "    for batch_idx, (x, y) in enumerate(train_dataloader):\n",
    "        \n",
    "        # set data to device\n",
    "        x, y = x.to(device), y.to(device)\n",
    "\n",
    "        # set optimizer to zero\n",
    "        optimizer.zero_grad()\n",
    "\n",
    "        # apply model \n",
    "        y_hat = model(x.float())\n",
    "            \n",
    "        # calculate loss\n",
    "        loss = criterion(y_hat, y.float())\n",
    "        train_loss.append(loss.item())\n",
    "\n",
    "        # backpropagation\n",
    "        loss.backward()\n",
    "        \n",
    "        # update the weights\n",
    "        optimizer.step()\n",
    "        \n",
    "        # print the loss every x batches\n",
    "        if batch_idx % print_every == 0:\n",
    "            percent = 100. * batch_idx / len(train_dataloader)\n",
    "            print(f'Train Epoch {epoch} \\\n",
    "            [{batch_idx * len(train_dataloader)}/{len(train_dataloader.dataset)} \\\n",
    "            ({percent:.0f}%)] \\tLoss: {loss.item():.6f}')\n",
    "\n",
    "        # calculate some metrics\n",
    "        \n",
    "        # to get the predictions, we need to apply the sigmoid layer\n",
    "        # this layer maps the data to the range [0,1]\n",
    "        # we set all predictions > 0.5 to 1 and the rest to 0\n",
    "        y_pred = torch.sigmoid(y_hat) > 0.5\n",
    "        predictions.append(y_pred)\n",
    "        correct += (y_pred == y).sum().item()\n",
    "        TP += torch.logical_and(y_pred == 1, y == 1).sum()\n",
    "        FP += torch.logical_and(y_pred == 1, y == 0).sum()\n",
    "        FN += torch.logical_and(y_pred == 0, y == 1).sum()\n",
    "\n",
    "    # total training loss over all batches\n",
    "    train_loss = torch.mean(torch.tensor(train_loss))\n",
    "    epoch_accuracy = correct/len(train_dataloader.dataset)\n",
    "    # recall = TP/(TP+FN)\n",
    "    epoch_recall = TP/(TP+FN)\n",
    "    # precision = TP/(TP+FP)\n",
    "    epoch_precision = TP/(TP+FP)\n",
    "\n",
    "    return epoch_accuracy, train_loss, epoch_recall, epoch_precision"
   ]
  },
  {
   "cell_type": "markdown",
   "id": "e2e75a9b",
   "metadata": {},
   "source": [
    "# Validation Loop\n",
    "\n",
    "The validation loop is similar to the training loop, but applies the model only for evaluation purpose. In this part nothing is learned by the Neural Net, i.e. there is no backpropagation and the weights are not updated. We set the model in evaluation mode (```model.eval()```) and since no gradients are calculated we set ```with torch.no_grad()```. This will reduce memory consumption for computations"
   ]
  },
  {
   "cell_type": "code",
   "execution_count": 30,
   "id": "a4519f7b",
   "metadata": {},
   "outputs": [],
   "source": [
    "def valid(model, device, val_dataloader, criterion):\n",
    "    '''\n",
    "    parameters:\n",
    "    model - the model used for training\n",
    "    device - the device we work on (cpu or gpu)\n",
    "    val_dataloader - the validation data wrapped in a dataloader\n",
    "    criterion - loss function\n",
    "    '''\n",
    "    \n",
    "    # create an empty list to store the loss\n",
    "    val_loss = []\n",
    "    # variable to count correct classified samples\n",
    "    correct = 0\n",
    "    # variable to count true positive, false positive and false negative samples\n",
    "    TP = 0\n",
    "    FP = 0\n",
    "    FN = 0\n",
    "    # create an empty list to store the predictions\n",
    "    predictions = []\n",
    "\n",
    "    # set model to evaluation mode, i.e. \n",
    "    # the model is only used for inference, this has effects on\n",
    "    # dropout-layers, which are ignored in this mode and batchnorm-layers, which use running statistics\n",
    "    model.eval()\n",
    "\n",
    "    # disable gradient calculation \n",
    "    # this is useful for inference, when we are sure that we will not call Tensor.backward(). \n",
    "    # It will reduce memory consumption for computations that would otherwise have requires_grad=True.\n",
    "    with torch.no_grad():\n",
    "        # loop over batches\n",
    "        for x, y in val_dataloader:\n",
    "            \n",
    "            # set data to device\n",
    "            x, y = x.to(device), y.to(device)\n",
    "\n",
    "            # apply model\n",
    "            y_hat = model(x.float())\n",
    "            \n",
    "            # append current loss\n",
    "            loss = criterion(y_hat, y.float())\n",
    "            val_loss.append(loss.item())\n",
    "\n",
    "            # calculate some metrics\n",
    "            \n",
    "            # to get the predictions, we need to apply the sigmoid layer\n",
    "            # this layer maps the data to the range [0,1]\n",
    "            # we set all predictions > 0.5 to 1 and the rest to 0\n",
    "            y_pred = torch.sigmoid(y_hat) > 0.5 \n",
    "            predictions.append(y_pred)\n",
    "            correct += (y_pred == y).sum().item()#y_pred.eq(y.view_as(y_pred)).sum().item()\n",
    "            TP += torch.logical_and(y_pred == 1, y == 1).sum()\n",
    "            FP += torch.logical_and(y_pred == 1, y == 0).sum()\n",
    "            FN += torch.logical_and(y_pred == 0, y == 1).sum()\n",
    "            \n",
    "        # total validation loss over all batches\n",
    "        val_loss = torch.mean(torch.tensor(val_loss))\n",
    "        epoch_accuracy = correct/len(val_dataloader.dataset)\n",
    "        # recall = TP/(TP+FN)\n",
    "        epoch_recall = TP/(TP+FN)\n",
    "        # precision = TP/(TP+FP)\n",
    "        epoch_precision = TP/(TP+FP)\n",
    "        \n",
    "        print(f'Validation: Average loss: {val_loss.item():.4f}, \\\n",
    "                Accuracy: {epoch_accuracy:.4f} \\\n",
    "               ({100. * correct/len(val_dataloader.dataset):.0f}%)')\n",
    "        \n",
    "    return predictions, epoch_accuracy, val_loss, epoch_recall, epoch_precision"
   ]
  },
  {
   "cell_type": "markdown",
   "id": "ac7ed53d",
   "metadata": {},
   "source": [
    "# Putting all together ...\n",
    "\n",
    "This section shows the entire steps needed to train a neural network using PyTorch:\n",
    "\n",
    "1. Generate Datasets from the data and wrap them into a Dataloader.\n",
    "\n",
    "2. Define the model. We will use the ```WaterNet```, which we created above.\n",
    "\n",
    "3. Define the optimizer.\n",
    "\n",
    "    There are different [optimizers](https://pytorch.org/docs/stable/optim.html) available in PyTorch. We use the Adam optimizer, which is a very common one. You can however try different ones. The Adam optimizer is an extension of the Stochastic Gradient Descent. Said in a simplified way the difference is that Stochastic Gradient Descent keeps the learning rate constant during training, while in Adam it is adapted. An introduction to the Adam optimizer can be found here.\n",
    "\n",
    "4. Define the loss function\n",
    "\n",
    "    We are considering a binary classification problem with a 1-dimensional output, the default choice for this type of problems is the binary cross entropy, which we will use. Note, that the output of our model is a propabilty. PyTorch offers the [```nn.BCEWithLogitsLoss()```](https://pytorch.org/docs/stable/generated/torch.nn.BCEWithLogitsLoss.html) method, which combines the final sigmoid layer and the binary cross entropy. \n",
    "\n",
    "5. Loop over the desired number of epochs for training and validation.\n",
    "    \n",
    "    Before we start to train the model, we set the hyperparameters. Hyperparameters are adjustable parameters that let you control the model optimization process. Different hyperparameter values can impact model training and convergence rates. In our case we have three hyperparameters, that we have to set. Note, that also the in- and output features of the model layers are hyperparameters. We set them fix in the model, you can however try different values.\n",
    "\n",
    "```batch_size```: Training and validation bathch size\n",
    "\n",
    "```epochs```: Number of epochs to train\n",
    "\n",
    "```learning_rate```: The learning rate\n",
    "\n",
    "We also set the variable ```print_every```. This is not a hyperparamter, but just determines how often the loss is printed during training and validation.\n",
    "\n",
    "Note, that we futher have to manually to set the device to \"cuda\" if a GPU is available."
   ]
  },
  {
   "cell_type": "code",
   "execution_count": 67,
   "id": "61a20f50",
   "metadata": {},
   "outputs": [],
   "source": [
    "# hyperparamters \n",
    "batch_size = 32\n",
    "epochs = 150\n",
    "learning_rate = 1e-3\n",
    "print_every = 200\n",
    "# set device to GPU, if available\n",
    "    device = torch.device(\"cuda\" if torch.cuda.is_available() else \"cpu\")"
   ]
  },
  {
   "cell_type": "code",
   "execution_count": 68,
   "id": "caba5661",
   "metadata": {},
   "outputs": [
    {
     "name": "stdout",
     "output_type": "stream",
     "text": [
      "train dataloader X: torch.Size([32, 9])\n",
      "train dataloader y: torch.Size([32])\n",
      "val dataloader X: torch.Size([32, 9])\n",
      "val dataloader y: torch.Size([32])\n"
     ]
    }
   ],
   "source": [
    "# create datasets\n",
    "train_dataset = WaterDataset(X_train, y_train)\n",
    "valid_dataset = WaterDataset(X_val, y_val)\n",
    "\n",
    "# wrap into dataloader\n",
    "train_dataloader = DataLoader(train_dataset, batch_size=batch_size, shuffle=True, drop_last=True)\n",
    "val_dataloader = DataLoader(valid_dataset, batch_size=batch_size)\n",
    "print(f'train dataloader X: {next(iter(train_dataloader))[0].shape}')\n",
    "print(f'train dataloader y: {next(iter(train_dataloader))[1].shape}')\n",
    "print(f'val dataloader X: {next(iter(val_dataloader))[0].shape}')\n",
    "print(f'val dataloader y: {next(iter(val_dataloader))[1].shape}')"
   ]
  },
  {
   "cell_type": "code",
   "execution_count": 69,
   "id": "726956ba",
   "metadata": {},
   "outputs": [],
   "source": [
    "# define the model and move it to the available device\n",
    "model = WaterNet().to(device)\n",
    "\n",
    "# define the optimizer\n",
    "optimizer = torch.optim.Adam(model.parameters(), lr=learning_rate)\n",
    "\n",
    "# define loss\n",
    "criterion = nn.BCEWithLogitsLoss()"
   ]
  },
  {
   "cell_type": "code",
   "execution_count": 70,
   "id": "883ca287",
   "metadata": {},
   "outputs": [
    {
     "name": "stdout",
     "output_type": "stream",
     "text": [
      "Train Epoch 0             [0/3200             (0%)] \tLoss: 0.698438\n",
      "Validation: Average loss: 0.6907,                 Accuracy: 0.5707                (57%)\n",
      "Train Epoch 1             [0/3200             (0%)] \tLoss: 0.693271\n",
      "Validation: Average loss: 0.6803,                 Accuracy: 0.5682                (57%)\n",
      "Train Epoch 2             [0/3200             (0%)] \tLoss: 0.699098\n",
      "Validation: Average loss: 0.6485,                 Accuracy: 0.6364                (64%)\n",
      "Train Epoch 3             [0/3200             (0%)] \tLoss: 0.680371\n",
      "Validation: Average loss: 0.6256,                 Accuracy: 0.6641                (66%)\n",
      "Train Epoch 4             [0/3200             (0%)] \tLoss: 0.752590\n",
      "Validation: Average loss: 0.6084,                 Accuracy: 0.6742                (67%)\n",
      "Train Epoch 5             [0/3200             (0%)] \tLoss: 0.572224\n",
      "Validation: Average loss: 0.6025,                 Accuracy: 0.6515                (65%)\n",
      "Train Epoch 6             [0/3200             (0%)] \tLoss: 0.639964\n",
      "Validation: Average loss: 0.6020,                 Accuracy: 0.6515                (65%)\n",
      "Train Epoch 7             [0/3200             (0%)] \tLoss: 0.566267\n",
      "Validation: Average loss: 0.5998,                 Accuracy: 0.6591                (66%)\n",
      "Train Epoch 8             [0/3200             (0%)] \tLoss: 0.533531\n",
      "Validation: Average loss: 0.5922,                 Accuracy: 0.6768                (68%)\n",
      "Train Epoch 9             [0/3200             (0%)] \tLoss: 0.573066\n",
      "Validation: Average loss: 0.5897,                 Accuracy: 0.6742                (67%)\n",
      "Train Epoch 10             [0/3200             (0%)] \tLoss: 0.610160\n",
      "Validation: Average loss: 0.5913,                 Accuracy: 0.6768                (68%)\n",
      "Train Epoch 11             [0/3200             (0%)] \tLoss: 0.581088\n",
      "Validation: Average loss: 0.5871,                 Accuracy: 0.6692                (67%)\n",
      "Train Epoch 12             [0/3200             (0%)] \tLoss: 0.696750\n",
      "Validation: Average loss: 0.5894,                 Accuracy: 0.6717                (67%)\n",
      "Train Epoch 13             [0/3200             (0%)] \tLoss: 0.542069\n",
      "Validation: Average loss: 0.5849,                 Accuracy: 0.6894                (69%)\n",
      "Train Epoch 14             [0/3200             (0%)] \tLoss: 0.605379\n",
      "Validation: Average loss: 0.5804,                 Accuracy: 0.6818                (68%)\n",
      "Train Epoch 15             [0/3200             (0%)] \tLoss: 0.586403\n",
      "Validation: Average loss: 0.5833,                 Accuracy: 0.6869                (69%)\n",
      "Train Epoch 16             [0/3200             (0%)] \tLoss: 0.711483\n",
      "Validation: Average loss: 0.5835,                 Accuracy: 0.6768                (68%)\n",
      "Train Epoch 17             [0/3200             (0%)] \tLoss: 0.522728\n",
      "Validation: Average loss: 0.5830,                 Accuracy: 0.6667                (67%)\n",
      "Train Epoch 18             [0/3200             (0%)] \tLoss: 0.579247\n",
      "Validation: Average loss: 0.5831,                 Accuracy: 0.6970                (70%)\n",
      "Train Epoch 19             [0/3200             (0%)] \tLoss: 0.687565\n",
      "Validation: Average loss: 0.5821,                 Accuracy: 0.6894                (69%)\n",
      "Train Epoch 20             [0/3200             (0%)] \tLoss: 0.651176\n",
      "Validation: Average loss: 0.5809,                 Accuracy: 0.6768                (68%)\n",
      "Train Epoch 21             [0/3200             (0%)] \tLoss: 0.582547\n",
      "Validation: Average loss: 0.5813,                 Accuracy: 0.6818                (68%)\n",
      "Train Epoch 22             [0/3200             (0%)] \tLoss: 0.565105\n",
      "Validation: Average loss: 0.5770,                 Accuracy: 0.6818                (68%)\n",
      "Train Epoch 23             [0/3200             (0%)] \tLoss: 0.637525\n",
      "Validation: Average loss: 0.5767,                 Accuracy: 0.6818                (68%)\n",
      "Train Epoch 24             [0/3200             (0%)] \tLoss: 0.692237\n",
      "Validation: Average loss: 0.5788,                 Accuracy: 0.6919                (69%)\n",
      "Train Epoch 25             [0/3200             (0%)] \tLoss: 0.591480\n",
      "Validation: Average loss: 0.5819,                 Accuracy: 0.6818                (68%)\n",
      "Train Epoch 26             [0/3200             (0%)] \tLoss: 0.677517\n",
      "Validation: Average loss: 0.5760,                 Accuracy: 0.6793                (68%)\n",
      "Train Epoch 27             [0/3200             (0%)] \tLoss: 0.589770\n",
      "Validation: Average loss: 0.5738,                 Accuracy: 0.6944                (69%)\n",
      "Train Epoch 28             [0/3200             (0%)] \tLoss: 0.526063\n",
      "Validation: Average loss: 0.5790,                 Accuracy: 0.6742                (67%)\n",
      "Train Epoch 29             [0/3200             (0%)] \tLoss: 0.602862\n",
      "Validation: Average loss: 0.5784,                 Accuracy: 0.6894                (69%)\n",
      "Train Epoch 30             [0/3200             (0%)] \tLoss: 0.594799\n",
      "Validation: Average loss: 0.5766,                 Accuracy: 0.6742                (67%)\n",
      "Train Epoch 31             [0/3200             (0%)] \tLoss: 0.563308\n",
      "Validation: Average loss: 0.5730,                 Accuracy: 0.6869                (69%)\n",
      "Train Epoch 32             [0/3200             (0%)] \tLoss: 0.483796\n",
      "Validation: Average loss: 0.5722,                 Accuracy: 0.6843                (68%)\n",
      "Train Epoch 33             [0/3200             (0%)] \tLoss: 0.638847\n",
      "Validation: Average loss: 0.5692,                 Accuracy: 0.6944                (69%)\n",
      "Train Epoch 34             [0/3200             (0%)] \tLoss: 0.584259\n",
      "Validation: Average loss: 0.5732,                 Accuracy: 0.6970                (70%)\n",
      "Train Epoch 35             [0/3200             (0%)] \tLoss: 0.603391\n",
      "Validation: Average loss: 0.5699,                 Accuracy: 0.6869                (69%)\n",
      "Train Epoch 36             [0/3200             (0%)] \tLoss: 0.644066\n",
      "Validation: Average loss: 0.5685,                 Accuracy: 0.6995                (70%)\n",
      "Train Epoch 37             [0/3200             (0%)] \tLoss: 0.668969\n",
      "Validation: Average loss: 0.5703,                 Accuracy: 0.6970                (70%)\n",
      "Train Epoch 38             [0/3200             (0%)] \tLoss: 0.668783\n",
      "Validation: Average loss: 0.5684,                 Accuracy: 0.6919                (69%)\n",
      "Train Epoch 39             [0/3200             (0%)] \tLoss: 0.615882\n",
      "Validation: Average loss: 0.5729,                 Accuracy: 0.6944                (69%)\n",
      "Train Epoch 40             [0/3200             (0%)] \tLoss: 0.539358\n",
      "Validation: Average loss: 0.5681,                 Accuracy: 0.6970                (70%)\n",
      "Train Epoch 41             [0/3200             (0%)] \tLoss: 0.450144\n",
      "Validation: Average loss: 0.5729,                 Accuracy: 0.6919                (69%)\n",
      "Train Epoch 42             [0/3200             (0%)] \tLoss: 0.510229\n",
      "Validation: Average loss: 0.5688,                 Accuracy: 0.6742                (67%)\n",
      "Train Epoch 43             [0/3200             (0%)] \tLoss: 0.589586\n",
      "Validation: Average loss: 0.5724,                 Accuracy: 0.6919                (69%)\n",
      "Train Epoch 44             [0/3200             (0%)] \tLoss: 0.510116\n",
      "Validation: Average loss: 0.5664,                 Accuracy: 0.6919                (69%)\n",
      "Train Epoch 45             [0/3200             (0%)] \tLoss: 0.565012\n",
      "Validation: Average loss: 0.5744,                 Accuracy: 0.6995                (70%)\n",
      "Train Epoch 46             [0/3200             (0%)] \tLoss: 0.484165\n",
      "Validation: Average loss: 0.5720,                 Accuracy: 0.6894                (69%)\n",
      "Train Epoch 47             [0/3200             (0%)] \tLoss: 0.572259\n",
      "Validation: Average loss: 0.5716,                 Accuracy: 0.6919                (69%)\n",
      "Train Epoch 48             [0/3200             (0%)] \tLoss: 0.548337\n",
      "Validation: Average loss: 0.5720,                 Accuracy: 0.7045                (70%)\n",
      "Train Epoch 49             [0/3200             (0%)] \tLoss: 0.602844\n",
      "Validation: Average loss: 0.5700,                 Accuracy: 0.7020                (70%)\n",
      "Train Epoch 50             [0/3200             (0%)] \tLoss: 0.499459\n",
      "Validation: Average loss: 0.5707,                 Accuracy: 0.6970                (70%)\n",
      "Train Epoch 51             [0/3200             (0%)] \tLoss: 0.535424\n",
      "Validation: Average loss: 0.5747,                 Accuracy: 0.6818                (68%)\n",
      "Train Epoch 52             [0/3200             (0%)] \tLoss: 0.556301\n",
      "Validation: Average loss: 0.5730,                 Accuracy: 0.6970                (70%)\n",
      "Train Epoch 53             [0/3200             (0%)] \tLoss: 0.650644\n"
     ]
    },
    {
     "name": "stdout",
     "output_type": "stream",
     "text": [
      "Validation: Average loss: 0.5681,                 Accuracy: 0.7020                (70%)\n",
      "Train Epoch 54             [0/3200             (0%)] \tLoss: 0.565856\n",
      "Validation: Average loss: 0.5680,                 Accuracy: 0.7071                (71%)\n",
      "Train Epoch 55             [0/3200             (0%)] \tLoss: 0.737288\n",
      "Validation: Average loss: 0.5665,                 Accuracy: 0.7020                (70%)\n",
      "Train Epoch 56             [0/3200             (0%)] \tLoss: 0.425397\n",
      "Validation: Average loss: 0.5729,                 Accuracy: 0.6944                (69%)\n",
      "Train Epoch 57             [0/3200             (0%)] \tLoss: 0.580527\n",
      "Validation: Average loss: 0.5671,                 Accuracy: 0.6944                (69%)\n",
      "Train Epoch 58             [0/3200             (0%)] \tLoss: 0.511232\n",
      "Validation: Average loss: 0.5710,                 Accuracy: 0.6995                (70%)\n",
      "Train Epoch 59             [0/3200             (0%)] \tLoss: 0.418103\n",
      "Validation: Average loss: 0.5735,                 Accuracy: 0.6970                (70%)\n",
      "Train Epoch 60             [0/3200             (0%)] \tLoss: 0.536001\n",
      "Validation: Average loss: 0.5672,                 Accuracy: 0.7121                (71%)\n",
      "Train Epoch 61             [0/3200             (0%)] \tLoss: 0.574392\n",
      "Validation: Average loss: 0.5638,                 Accuracy: 0.7045                (70%)\n",
      "Train Epoch 62             [0/3200             (0%)] \tLoss: 0.565822\n",
      "Validation: Average loss: 0.5598,                 Accuracy: 0.7071                (71%)\n",
      "Train Epoch 63             [0/3200             (0%)] \tLoss: 0.587374\n",
      "Validation: Average loss: 0.5633,                 Accuracy: 0.6995                (70%)\n",
      "Train Epoch 64             [0/3200             (0%)] \tLoss: 0.536169\n",
      "Validation: Average loss: 0.5629,                 Accuracy: 0.7071                (71%)\n",
      "Train Epoch 65             [0/3200             (0%)] \tLoss: 0.471493\n",
      "Validation: Average loss: 0.5669,                 Accuracy: 0.6894                (69%)\n",
      "Train Epoch 66             [0/3200             (0%)] \tLoss: 0.455450\n",
      "Validation: Average loss: 0.5649,                 Accuracy: 0.6919                (69%)\n",
      "Train Epoch 67             [0/3200             (0%)] \tLoss: 0.615344\n",
      "Validation: Average loss: 0.5650,                 Accuracy: 0.7020                (70%)\n",
      "Train Epoch 68             [0/3200             (0%)] \tLoss: 0.464577\n",
      "Validation: Average loss: 0.5631,                 Accuracy: 0.6919                (69%)\n",
      "Train Epoch 69             [0/3200             (0%)] \tLoss: 0.471708\n",
      "Validation: Average loss: 0.5670,                 Accuracy: 0.6919                (69%)\n",
      "Train Epoch 70             [0/3200             (0%)] \tLoss: 0.612659\n",
      "Validation: Average loss: 0.5691,                 Accuracy: 0.6843                (68%)\n",
      "Train Epoch 71             [0/3200             (0%)] \tLoss: 0.596199\n",
      "Validation: Average loss: 0.5663,                 Accuracy: 0.6970                (70%)\n",
      "Train Epoch 72             [0/3200             (0%)] \tLoss: 0.575833\n",
      "Validation: Average loss: 0.5668,                 Accuracy: 0.6944                (69%)\n",
      "Train Epoch 73             [0/3200             (0%)] \tLoss: 0.668137\n",
      "Validation: Average loss: 0.5662,                 Accuracy: 0.6970                (70%)\n",
      "Train Epoch 74             [0/3200             (0%)] \tLoss: 0.598843\n",
      "Validation: Average loss: 0.5641,                 Accuracy: 0.6970                (70%)\n",
      "Train Epoch 75             [0/3200             (0%)] \tLoss: 0.618208\n",
      "Validation: Average loss: 0.5598,                 Accuracy: 0.6919                (69%)\n",
      "Train Epoch 76             [0/3200             (0%)] \tLoss: 0.446516\n",
      "Validation: Average loss: 0.5627,                 Accuracy: 0.6944                (69%)\n",
      "Train Epoch 77             [0/3200             (0%)] \tLoss: 0.562181\n",
      "Validation: Average loss: 0.5608,                 Accuracy: 0.6919                (69%)\n",
      "Train Epoch 78             [0/3200             (0%)] \tLoss: 0.512669\n",
      "Validation: Average loss: 0.5578,                 Accuracy: 0.6793                (68%)\n",
      "Train Epoch 79             [0/3200             (0%)] \tLoss: 0.445338\n",
      "Validation: Average loss: 0.5595,                 Accuracy: 0.6793                (68%)\n",
      "Train Epoch 80             [0/3200             (0%)] \tLoss: 0.418983\n",
      "Validation: Average loss: 0.5621,                 Accuracy: 0.6768                (68%)\n",
      "Train Epoch 81             [0/3200             (0%)] \tLoss: 0.537329\n",
      "Validation: Average loss: 0.5565,                 Accuracy: 0.6944                (69%)\n",
      "Train Epoch 82             [0/3200             (0%)] \tLoss: 0.441593\n",
      "Validation: Average loss: 0.5625,                 Accuracy: 0.6919                (69%)\n",
      "Train Epoch 83             [0/3200             (0%)] \tLoss: 0.622424\n",
      "Validation: Average loss: 0.5625,                 Accuracy: 0.6970                (70%)\n",
      "Train Epoch 84             [0/3200             (0%)] \tLoss: 0.531677\n",
      "Validation: Average loss: 0.5615,                 Accuracy: 0.6995                (70%)\n",
      "Train Epoch 85             [0/3200             (0%)] \tLoss: 0.555920\n",
      "Validation: Average loss: 0.5565,                 Accuracy: 0.7197                (72%)\n",
      "Train Epoch 86             [0/3200             (0%)] \tLoss: 0.487288\n",
      "Validation: Average loss: 0.5618,                 Accuracy: 0.6970                (70%)\n",
      "Train Epoch 87             [0/3200             (0%)] \tLoss: 0.507138\n",
      "Validation: Average loss: 0.5602,                 Accuracy: 0.6970                (70%)\n",
      "Train Epoch 88             [0/3200             (0%)] \tLoss: 0.450443\n",
      "Validation: Average loss: 0.5591,                 Accuracy: 0.6970                (70%)\n",
      "Train Epoch 89             [0/3200             (0%)] \tLoss: 0.486367\n",
      "Validation: Average loss: 0.5528,                 Accuracy: 0.7020                (70%)\n",
      "Train Epoch 90             [0/3200             (0%)] \tLoss: 0.479477\n",
      "Validation: Average loss: 0.5564,                 Accuracy: 0.6970                (70%)\n",
      "Train Epoch 91             [0/3200             (0%)] \tLoss: 0.528331\n",
      "Validation: Average loss: 0.5587,                 Accuracy: 0.7096                (71%)\n",
      "Train Epoch 92             [0/3200             (0%)] \tLoss: 0.533535\n",
      "Validation: Average loss: 0.5644,                 Accuracy: 0.6894                (69%)\n",
      "Train Epoch 93             [0/3200             (0%)] \tLoss: 0.583896\n",
      "Validation: Average loss: 0.5507,                 Accuracy: 0.7045                (70%)\n",
      "Train Epoch 94             [0/3200             (0%)] \tLoss: 0.533929\n",
      "Validation: Average loss: 0.5546,                 Accuracy: 0.6970                (70%)\n",
      "Train Epoch 95             [0/3200             (0%)] \tLoss: 0.577093\n",
      "Validation: Average loss: 0.5631,                 Accuracy: 0.6793                (68%)\n",
      "Train Epoch 96             [0/3200             (0%)] \tLoss: 0.571844\n",
      "Validation: Average loss: 0.5529,                 Accuracy: 0.7045                (70%)\n",
      "Train Epoch 97             [0/3200             (0%)] \tLoss: 0.491018\n",
      "Validation: Average loss: 0.5573,                 Accuracy: 0.6894                (69%)\n",
      "Train Epoch 98             [0/3200             (0%)] \tLoss: 0.380300\n",
      "Validation: Average loss: 0.5647,                 Accuracy: 0.6894                (69%)\n",
      "Train Epoch 99             [0/3200             (0%)] \tLoss: 0.607549\n",
      "Validation: Average loss: 0.5553,                 Accuracy: 0.7020                (70%)\n",
      "Train Epoch 100             [0/3200             (0%)] \tLoss: 0.639269\n",
      "Validation: Average loss: 0.5501,                 Accuracy: 0.7096                (71%)\n",
      "Train Epoch 101             [0/3200             (0%)] \tLoss: 0.511140\n",
      "Validation: Average loss: 0.5510,                 Accuracy: 0.7045                (70%)\n",
      "Train Epoch 102             [0/3200             (0%)] \tLoss: 0.672588\n",
      "Validation: Average loss: 0.5521,                 Accuracy: 0.7045                (70%)\n",
      "Train Epoch 103             [0/3200             (0%)] \tLoss: 0.524328\n",
      "Validation: Average loss: 0.5480,                 Accuracy: 0.7071                (71%)\n",
      "Train Epoch 104             [0/3200             (0%)] \tLoss: 0.618424\n",
      "Validation: Average loss: 0.5465,                 Accuracy: 0.7071                (71%)\n",
      "Train Epoch 105             [0/3200             (0%)] \tLoss: 0.616458\n",
      "Validation: Average loss: 0.5521,                 Accuracy: 0.6944                (69%)\n",
      "Train Epoch 106             [0/3200             (0%)] \tLoss: 0.556216\n",
      "Validation: Average loss: 0.5509,                 Accuracy: 0.6944                (69%)\n",
      "Train Epoch 107             [0/3200             (0%)] \tLoss: 0.555659\n"
     ]
    },
    {
     "name": "stdout",
     "output_type": "stream",
     "text": [
      "Validation: Average loss: 0.5483,                 Accuracy: 0.7071                (71%)\n",
      "Train Epoch 108             [0/3200             (0%)] \tLoss: 0.605721\n",
      "Validation: Average loss: 0.5508,                 Accuracy: 0.6944                (69%)\n",
      "Train Epoch 109             [0/3200             (0%)] \tLoss: 0.541422\n",
      "Validation: Average loss: 0.5665,                 Accuracy: 0.6869                (69%)\n",
      "Train Epoch 110             [0/3200             (0%)] \tLoss: 0.496753\n",
      "Validation: Average loss: 0.5496,                 Accuracy: 0.6869                (69%)\n",
      "Train Epoch 111             [0/3200             (0%)] \tLoss: 0.449642\n",
      "Validation: Average loss: 0.5437,                 Accuracy: 0.7197                (72%)\n",
      "Train Epoch 112             [0/3200             (0%)] \tLoss: 0.461613\n",
      "Validation: Average loss: 0.5456,                 Accuracy: 0.7071                (71%)\n",
      "Train Epoch 113             [0/3200             (0%)] \tLoss: 0.568808\n",
      "Validation: Average loss: 0.5424,                 Accuracy: 0.6995                (70%)\n",
      "Train Epoch 114             [0/3200             (0%)] \tLoss: 0.430091\n",
      "Validation: Average loss: 0.5585,                 Accuracy: 0.7020                (70%)\n",
      "Train Epoch 115             [0/3200             (0%)] \tLoss: 0.516330\n",
      "Validation: Average loss: 0.5470,                 Accuracy: 0.7146                (71%)\n",
      "Train Epoch 116             [0/3200             (0%)] \tLoss: 0.783485\n",
      "Validation: Average loss: 0.5492,                 Accuracy: 0.7071                (71%)\n",
      "Train Epoch 117             [0/3200             (0%)] \tLoss: 0.443186\n",
      "Validation: Average loss: 0.5529,                 Accuracy: 0.7071                (71%)\n",
      "Train Epoch 118             [0/3200             (0%)] \tLoss: 0.628791\n",
      "Validation: Average loss: 0.5507,                 Accuracy: 0.7096                (71%)\n",
      "Train Epoch 119             [0/3200             (0%)] \tLoss: 0.550061\n",
      "Validation: Average loss: 0.5497,                 Accuracy: 0.7045                (70%)\n",
      "Train Epoch 120             [0/3200             (0%)] \tLoss: 0.575655\n",
      "Validation: Average loss: 0.5545,                 Accuracy: 0.6995                (70%)\n",
      "Train Epoch 121             [0/3200             (0%)] \tLoss: 0.518967\n",
      "Validation: Average loss: 0.5510,                 Accuracy: 0.6894                (69%)\n",
      "Train Epoch 122             [0/3200             (0%)] \tLoss: 0.473791\n",
      "Validation: Average loss: 0.5473,                 Accuracy: 0.7020                (70%)\n",
      "Train Epoch 123             [0/3200             (0%)] \tLoss: 0.558468\n",
      "Validation: Average loss: 0.5519,                 Accuracy: 0.7020                (70%)\n",
      "Train Epoch 124             [0/3200             (0%)] \tLoss: 0.488046\n",
      "Validation: Average loss: 0.5483,                 Accuracy: 0.6995                (70%)\n",
      "Train Epoch 125             [0/3200             (0%)] \tLoss: 0.560936\n",
      "Validation: Average loss: 0.5513,                 Accuracy: 0.7045                (70%)\n",
      "Train Epoch 126             [0/3200             (0%)] \tLoss: 0.648946\n",
      "Validation: Average loss: 0.5506,                 Accuracy: 0.6995                (70%)\n",
      "Train Epoch 127             [0/3200             (0%)] \tLoss: 0.424454\n",
      "Validation: Average loss: 0.5584,                 Accuracy: 0.6894                (69%)\n",
      "Train Epoch 128             [0/3200             (0%)] \tLoss: 0.666640\n",
      "Validation: Average loss: 0.5460,                 Accuracy: 0.7172                (72%)\n",
      "Train Epoch 129             [0/3200             (0%)] \tLoss: 0.536782\n",
      "Validation: Average loss: 0.5452,                 Accuracy: 0.6843                (68%)\n",
      "Train Epoch 130             [0/3200             (0%)] \tLoss: 0.501486\n",
      "Validation: Average loss: 0.5457,                 Accuracy: 0.7146                (71%)\n",
      "Train Epoch 131             [0/3200             (0%)] \tLoss: 0.529960\n",
      "Validation: Average loss: 0.5511,                 Accuracy: 0.6995                (70%)\n",
      "Train Epoch 132             [0/3200             (0%)] \tLoss: 0.510642\n",
      "Validation: Average loss: 0.5518,                 Accuracy: 0.6995                (70%)\n",
      "Train Epoch 133             [0/3200             (0%)] \tLoss: 0.466309\n",
      "Validation: Average loss: 0.5501,                 Accuracy: 0.7020                (70%)\n",
      "Train Epoch 134             [0/3200             (0%)] \tLoss: 0.453280\n",
      "Validation: Average loss: 0.5415,                 Accuracy: 0.7071                (71%)\n",
      "Train Epoch 135             [0/3200             (0%)] \tLoss: 0.499707\n",
      "Validation: Average loss: 0.5444,                 Accuracy: 0.7020                (70%)\n",
      "Train Epoch 136             [0/3200             (0%)] \tLoss: 0.454849\n",
      "Validation: Average loss: 0.5460,                 Accuracy: 0.7096                (71%)\n",
      "Train Epoch 137             [0/3200             (0%)] \tLoss: 0.635131\n",
      "Validation: Average loss: 0.5419,                 Accuracy: 0.7121                (71%)\n",
      "Train Epoch 138             [0/3200             (0%)] \tLoss: 0.432363\n",
      "Validation: Average loss: 0.5337,                 Accuracy: 0.7273                (73%)\n",
      "Train Epoch 139             [0/3200             (0%)] \tLoss: 0.572286\n",
      "Validation: Average loss: 0.5444,                 Accuracy: 0.7121                (71%)\n",
      "Train Epoch 140             [0/3200             (0%)] \tLoss: 0.531820\n",
      "Validation: Average loss: 0.5423,                 Accuracy: 0.7172                (72%)\n",
      "Train Epoch 141             [0/3200             (0%)] \tLoss: 0.692866\n",
      "Validation: Average loss: 0.5509,                 Accuracy: 0.7020                (70%)\n",
      "Train Epoch 142             [0/3200             (0%)] \tLoss: 0.564676\n",
      "Validation: Average loss: 0.5471,                 Accuracy: 0.7146                (71%)\n",
      "Train Epoch 143             [0/3200             (0%)] \tLoss: 0.485401\n",
      "Validation: Average loss: 0.5415,                 Accuracy: 0.7197                (72%)\n",
      "Train Epoch 144             [0/3200             (0%)] \tLoss: 0.563774\n",
      "Validation: Average loss: 0.5472,                 Accuracy: 0.7222                (72%)\n",
      "Train Epoch 145             [0/3200             (0%)] \tLoss: 0.452197\n",
      "Validation: Average loss: 0.5373,                 Accuracy: 0.7197                (72%)\n",
      "Train Epoch 146             [0/3200             (0%)] \tLoss: 0.466801\n",
      "Validation: Average loss: 0.5347,                 Accuracy: 0.7096                (71%)\n",
      "Train Epoch 147             [0/3200             (0%)] \tLoss: 0.444807\n",
      "Validation: Average loss: 0.5314,                 Accuracy: 0.7045                (70%)\n",
      "Train Epoch 148             [0/3200             (0%)] \tLoss: 0.530078\n",
      "Validation: Average loss: 0.5387,                 Accuracy: 0.7045                (70%)\n",
      "Train Epoch 149             [0/3200             (0%)] \tLoss: 0.615654\n",
      "Validation: Average loss: 0.5352,                 Accuracy: 0.7172                (72%)\n"
     ]
    }
   ],
   "source": [
    "# create empty lists to store the accuracy and loss per validation epoch \n",
    "train_epoch_accuracy = []\n",
    "train_epoch_loss = []\n",
    "train_epoch_recall = []\n",
    "train_epoch_precision = []\n",
    "val_epoch_accuracy = []\n",
    "val_epoch_loss = []\n",
    "val_epoch_recall = []\n",
    "val_epoch_precision = []\n",
    "\n",
    "# loop over number of epochs\n",
    "for epoch in range(epochs):\n",
    "    \n",
    "    # train model for each epoch\n",
    "    train_accuracy, train_loss, train_recall, train_precision = \\\n",
    "        train(model, device, train_dataloader, optimizer, criterion, epoch, print_every)\n",
    "    # save training loss and accuracy for each epoch\n",
    "    train_epoch_accuracy.append(train_accuracy)\n",
    "    train_epoch_loss.append(train_loss)\n",
    "    train_epoch_recall.append(train_recall)\n",
    "    train_epoch_precision.append(train_precision)\n",
    "    \n",
    "    # validate model for each epoch\n",
    "    predictions, val_accuracy, val_loss, val_recall, val_precision = \\\n",
    "        valid(model, device, val_dataloader, criterion)\n",
    "    # save validation loss and accuracy for each epoch\n",
    "    val_epoch_accuracy.append(val_accuracy)\n",
    "    val_epoch_loss.append(val_loss)\n",
    "    val_epoch_recall.append(val_recall)\n",
    "    val_epoch_precision.append(val_precision)"
   ]
  },
  {
   "cell_type": "markdown",
   "id": "ed421c87",
   "metadata": {},
   "source": [
    "# Evaluate Results\n",
    "\n",
    "To evaluate the results we will plot the loss and the calculated metrics for training and validation."
   ]
  },
  {
   "cell_type": "code",
   "execution_count": 71,
   "id": "5425b696",
   "metadata": {},
   "outputs": [],
   "source": [
    "def evaluation_plot(metric_val, metric_train, metric_string):\n",
    "    fig, ax = plt.subplots(1,1, figsize=(10,5))\n",
    "    x = np.arange(1, epochs+1)\n",
    "    ax.plot(x, metric_val, label=\"Validation\", color=\"#9DC209\")\n",
    "    ax.plot(x, metric_train, label=\"Training\", color=\"#FF7F50\")\n",
    "    ax.legend()\n",
    "    ax.set_title(f\"{metric_string} - final value train:{metric_train[-1]:.2} / valid {metric_val[-1]:.2}\");"
   ]
  },
  {
   "cell_type": "code",
   "execution_count": 72,
   "id": "87e113a7",
   "metadata": {},
   "outputs": [
    {
     "data": {
      "image/png": "[encoded data removed]",
      "text/plain": [
       "<Figure size 720x360 with 1 Axes>"
      ]
     },
     "metadata": {
      "needs_background": "light"
     },
     "output_type": "display_data"
    }
   ],
   "source": [
    "evaluation_plot(val_epoch_loss, train_epoch_loss, \"Loss\")"
   ]
  },
  {
   "cell_type": "code",
   "execution_count": 73,
   "id": "95f7b340",
   "metadata": {},
   "outputs": [
    {
     "data": {
      "image/png": "[encoded data removed]",
      "text/plain": [
       "<Figure size 720x360 with 1 Axes>"
      ]
     },
     "metadata": {
      "needs_background": "light"
     },
     "output_type": "display_data"
    }
   ],
   "source": [
    "evaluation_plot(val_epoch_accuracy, train_epoch_accuracy, \"Accuracy\")"
   ]
  },
  {
   "cell_type": "code",
   "execution_count": 74,
   "id": "e7651d10",
   "metadata": {},
   "outputs": [
    {
     "data": {
      "image/png": "[encoded data removed]",
      "text/plain": [
       "<Figure size 720x360 with 1 Axes>"
      ]
     },
     "metadata": {
      "needs_background": "light"
     },
     "output_type": "display_data"
    }
   ],
   "source": [
    "evaluation_plot(val_epoch_recall, train_epoch_recall, \"Recall\")"
   ]
  },
  {
   "cell_type": "code",
   "execution_count": 75,
   "id": "0f96a041",
   "metadata": {},
   "outputs": [
    {
     "data": {
      "image/png": "[encoded data removed]",
      "text/plain": [
       "<Figure size 720x360 with 1 Axes>"
      ]
     },
     "metadata": {
      "needs_background": "light"
     },
     "output_type": "display_data"
    }
   ],
   "source": [
    "evaluation_plot(val_epoch_precision, train_epoch_precision, \"Precision\")"
   ]
  },
  {
   "cell_type": "markdown",
   "id": "b0263480",
   "metadata": {},
   "source": [
    "# Save the Model\n",
    "\n",
    "If we later want to use our model we need to save it. We can do that by saving it's ```state_dict()```."
   ]
  },
  {
   "cell_type": "code",
   "execution_count": 56,
   "id": "51743a56",
   "metadata": {},
   "outputs": [],
   "source": [
    "torch.save(model.state_dict(), 'water_model_weights.pth')"
   ]
  },
  {
   "cell_type": "code",
   "execution_count": 57,
   "id": "93f6e3c2",
   "metadata": {},
   "outputs": [
    {
     "data": {
      "text/plain": [
       "WaterNet(\n",
       "  (fc1): Linear(in_features=9, out_features=64, bias=True)\n",
       "  (fc2): Linear(in_features=64, out_features=32, bias=True)\n",
       "  (fc3): Linear(in_features=32, out_features=16, bias=True)\n",
       "  (fc4): Linear(in_features=16, out_features=1, bias=True)\n",
       "  (relu): ReLU()\n",
       "  (dropout): Dropout(p=0.5, inplace=False)\n",
       ")"
      ]
     },
     "execution_count": 57,
     "metadata": {},
     "output_type": "execute_result"
    }
   ],
   "source": [
    "model = WaterNet()\n",
    "model.load_state_dict(torch.load('water_model_weights.pth'))\n",
    "model.eval()"
   ]
  },
  {
   "cell_type": "markdown",
   "id": "e946aaf1",
   "metadata": {},
   "source": [
    "# Load the Model\n",
    "\n",
    "We now pretend that we start a new notebook and want to apply our model. We have to initiate the model and load the weights. Note: be sure to call ```model.eval()``` method before applying the model to set the dropout and batch normalization layers to evaluation mode. If you forget to do this, it may yield to inconsistent inference results."
   ]
  },
  {
   "cell_type": "code",
   "execution_count": 43,
   "id": "60f20fe0",
   "metadata": {},
   "outputs": [
    {
     "data": {
      "text/plain": [
       "WaterNet(\n",
       "  (fc1): Linear(in_features=9, out_features=64, bias=True)\n",
       "  (fc2): Linear(in_features=64, out_features=32, bias=True)\n",
       "  (fc3): Linear(in_features=32, out_features=16, bias=True)\n",
       "  (fc4): Linear(in_features=16, out_features=1, bias=True)\n",
       "  (relu): ReLU()\n",
       "  (dropout): Dropout(p=0.5, inplace=False)\n",
       ")"
      ]
     },
     "execution_count": 43,
     "metadata": {},
     "output_type": "execute_result"
    }
   ],
   "source": [
    "model = WaterNet()\n",
    "model.load_state_dict(torch.load('water_model_weights.pth'))\n",
    "model.eval()"
   ]
  },
  {
   "cell_type": "markdown",
   "id": "a3d01f1b",
   "metadata": {},
   "source": [
    "# Apply to Test Set\n",
    "\n",
    "We now apply our trained model to the test data. We have our test data already prepared."
   ]
  },
  {
   "cell_type": "code",
   "execution_count": 44,
   "id": "5f02474f",
   "metadata": {},
   "outputs": [
    {
     "data": {
      "text/plain": [
       "(400, 9)"
      ]
     },
     "execution_count": 44,
     "metadata": {},
     "output_type": "execute_result"
    }
   ],
   "source": [
    "X_test.shape"
   ]
  },
  {
   "cell_type": "markdown",
   "id": "c6f6f03c",
   "metadata": {},
   "source": [
    "Create a dataset and wrap a DataLoader arround it."
   ]
  },
  {
   "cell_type": "code",
   "execution_count": 45,
   "id": "7fbd299d",
   "metadata": {},
   "outputs": [
    {
     "name": "stdout",
     "output_type": "stream",
     "text": [
      "test dataloader X: torch.Size([32, 9])\n"
     ]
    }
   ],
   "source": [
    "# create a dataset\n",
    "test_dataset = WaterDataset(X_test, y_test)\n",
    "\n",
    "# wrap into dataloader\n",
    "test_dataloader = DataLoader(test_dataset, batch_size=batch_size)\n",
    "print(f'test dataloader X: {next(iter(test_dataloader))[0].shape}')"
   ]
  },
  {
   "cell_type": "markdown",
   "id": "25d4fc75",
   "metadata": {},
   "source": [
    "We can use the function defined for validation."
   ]
  },
  {
   "cell_type": "code",
   "execution_count": 46,
   "id": "9a35ef35",
   "metadata": {},
   "outputs": [
    {
     "name": "stdout",
     "output_type": "stream",
     "text": [
      "Validation: Average loss: 0.5616,                 Accuracy: 0.7045                (70%)\n",
      "\n",
      "Accuracy on test set 0.7045\n",
      "Loss on test set 0.5616\n",
      "Recall on test set 0.7204\n",
      "Precision on test set 0.7238\n"
     ]
    }
   ],
   "source": [
    "predictions, test_accuracy, test_loss, test_recall, test_precision = \\\n",
    "        valid(model, device, val_dataloader, criterion)\n",
    "# save validation loss and accuracy for each epoch\n",
    "print()\n",
    "print(f\"Accuracy on test set {test_accuracy:.4f}\")\n",
    "print(f\"Loss on test set {test_loss.item():.4f}\")\n",
    "print(f\"Recall on test set {test_recall.item():.4f}\")\n",
    "print(f\"Precision on test set {test_precision.item():.4f}\")"
   ]
  },
  {
   "cell_type": "code",
   "execution_count": null,
   "id": "5aaf1a3f",
   "metadata": {},
   "outputs": [],
   "source": []
  }
 ],
 "metadata": {
  "kernelspec": {
   "display_name": "super-res",
   "language": "python",
   "name": "super-res"
  },
  "language_info": {
   "codemirror_mode": {
    "name": "ipython",
    "version": 3
   },
   "file_extension": ".py",
   "mimetype": "text/x-python",
   "name": "python",
   "nbconvert_exporter": "python",
   "pygments_lexer": "ipython3",
   "version": "3.9.12"
  }
 },
 "nbformat": 4,
 "nbformat_minor": 5
}
